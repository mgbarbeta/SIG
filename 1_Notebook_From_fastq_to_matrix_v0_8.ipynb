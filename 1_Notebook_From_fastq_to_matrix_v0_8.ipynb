{
  "nbformat": 4,
  "nbformat_minor": 0,
  "metadata": {
    "colab": {
      "name": "1_Notebook_From_fastq_to_matrix_v0.8.ipynb",
      "provenance": [],
      "collapsed_sections": [
        "_dgeUjsHl_KC",
        "MyLnsAaMmBqR"
      ],
      "toc_visible": true,
      "machine_shape": "hm",
      "include_colab_link": true
    },
    "kernelspec": {
      "name": "python3",
      "display_name": "Python 3"
    }
  },
  "cells": [
    {
      "cell_type": "markdown",
      "metadata": {
        "id": "view-in-github",
        "colab_type": "text"
      },
      "source": [
        "<a href=\"https://colab.research.google.com/github/afvallejo/SIG/blob/master/1_Notebook_From_fastq_to_matrix_v0_8.ipynb\" target=\"_parent\"><img src=\"https://colab.research.google.com/assets/colab-badge.svg\" alt=\"Open In Colab\"/></a>"
      ]
    },
    {
      "cell_type": "markdown",
      "metadata": {
        "id": "43CdS8VlfSva",
        "colab_type": "text"
      },
      "source": [
        "# References"
      ]
    },
    {
      "cell_type": "markdown",
      "metadata": {
        "id": "JWAAkH2QfqM1",
        "colab_type": "text"
      },
      "source": [
        "- Bray, N. L., Pimentel, H., Melsted, P., & Pachter, L. (2016). Near-optimal probabilistic RNA-seq quantification. Nature biotechnology, 34(5), 525-527.[link text](https://www.nature.com/articles/nbt.3519?report=reader)\n",
        "\n",
        "- Ewels, P., Magnusson, M., Lundin, S., & Käller, M. (2016). MultiQC: summarize analysis results for multiple tools and samples in a single report. Bioinformatics, 32(19), 3047-3048.[link text](https://academic.oup.com/bioinformatics/article/32/19/3047/2196507)\n",
        "\n",
        "- Pimentel, H., Bray, N. L., Puente, S., Melsted, P., & Pachter, L. (2017). Differential analysis of RNA-seq incorporating quantification uncertainty. Nature methods, 14(7), 687.[link text](https://www.nature.com/articles/nmeth.4324)"
      ]
    },
    {
      "cell_type": "code",
      "metadata": {
        "id": "baEXBp3ufR4T",
        "colab_type": "code",
        "colab": {}
      },
      "source": [
        ""
      ],
      "execution_count": 0,
      "outputs": []
    },
    {
      "cell_type": "markdown",
      "metadata": {
        "id": "dpocdGM_3rQV",
        "colab_type": "text"
      },
      "source": [
        "# Install packages"
      ]
    },
    {
      "cell_type": "code",
      "metadata": {
        "id": "Ublc0YM34uGz",
        "colab_type": "code",
        "colab": {}
      },
      "source": [
        "pip install --upgrade rpy2"
      ],
      "execution_count": 0,
      "outputs": []
    },
    {
      "cell_type": "code",
      "metadata": {
        "id": "cTDzJCSG6m5i",
        "colab_type": "code",
        "colab": {}
      },
      "source": [
        "!wget https://github.com/pachterlab/kallisto/releases/download/v0.46.1/kallisto_linux-v0.46.1.tar.gz"
      ],
      "execution_count": 0,
      "outputs": []
    },
    {
      "cell_type": "code",
      "metadata": {
        "id": "sNeQ_aTr6oVz",
        "colab_type": "code",
        "colab": {}
      },
      "source": [
        "!tar -xf kallisto_linux-v0.46.1.tar.gz"
      ],
      "execution_count": 0,
      "outputs": []
    },
    {
      "cell_type": "code",
      "metadata": {
        "id": "RPCJQXjWU9Bi",
        "colab_type": "code",
        "colab": {}
      },
      "source": [
        "!wget https://www.bioinformatics.babraham.ac.uk/projects/fastqc/fastqc_v0.11.9.zip"
      ],
      "execution_count": 0,
      "outputs": []
    },
    {
      "cell_type": "code",
      "metadata": {
        "id": "oxm9UMefU9FC",
        "colab_type": "code",
        "colab": {}
      },
      "source": [
        "!unzip fastqc_v0.11.9.zip"
      ],
      "execution_count": 0,
      "outputs": []
    },
    {
      "cell_type": "code",
      "metadata": {
        "id": "TRbu1pRoU9H8",
        "colab_type": "code",
        "colab": {}
      },
      "source": [
        "!chmod +x FastQC/fastqc"
      ],
      "execution_count": 0,
      "outputs": []
    },
    {
      "cell_type": "code",
      "metadata": {
        "id": "QylL3egej8sN",
        "colab_type": "code",
        "colab": {}
      },
      "source": [
        "!pip install multiqc"
      ],
      "execution_count": 0,
      "outputs": []
    },
    {
      "cell_type": "markdown",
      "metadata": {
        "id": "OgQP4Fkm9t9D",
        "colab_type": "text"
      },
      "source": [
        "# Get the cDNA file"
      ]
    },
    {
      "cell_type": "code",
      "metadata": {
        "id": "ZRziIh9B9yPa",
        "colab_type": "code",
        "colab": {}
      },
      "source": [
        "!wget ftp://ftp.ensembl.org/pub/release-95/fasta/homo_sapiens/cdna/Homo_sapiens.GRCh38.cdna.all.fa.gz"
      ],
      "execution_count": 0,
      "outputs": []
    },
    {
      "cell_type": "code",
      "metadata": {
        "id": "lPwqQtIy9wCb",
        "colab_type": "code",
        "colab": {}
      },
      "source": [
        "!kallisto/kallisto index --make-unique -i kallisto_index.idx Homo_sapiens.GRCh38.cdna.all.fa.gz"
      ],
      "execution_count": 0,
      "outputs": []
    },
    {
      "cell_type": "code",
      "metadata": {
        "id": "1FhFOW51RdR3",
        "colab_type": "code",
        "colab": {}
      },
      "source": [
        "!Rscript -e \"options(Ncpus = 4)\" -e \"install.packages('devtools')\" -e \"install.packages('BiocManager')\" -e \"BiocManager::install(c('tximport','biomaRt', 'dplyr', 'tidyverse','ensembldb','EnsDb.Hsapiens.v86','rhdf5','rhdf5','genefilter'))\" -e \"devtools::install_github('pachterlab/sleuth')\""
      ],
      "execution_count": 0,
      "outputs": []
    },
    {
      "cell_type": "code",
      "metadata": {
        "id": "V1UAIPBfalWC",
        "colab_type": "code",
        "outputId": "e401b005-9999-4d78-c759-2840a7acba7c",
        "colab": {
          "base_uri": "https://localhost:8080/",
          "height": 1000
        }
      },
      "source": [
        "!Rscript -e \"BiocManager::install('genefilter')\""
      ],
      "execution_count": 0,
      "outputs": [
        {
          "output_type": "stream",
          "text": [
            "Bioconductor version 3.10 (BiocManager 1.30.10), R 3.6.3 (2020-02-29)\n",
            "Installing package(s) 'genefilter'\n",
            "also installing the dependency ‘annotate’\n",
            "\n",
            "trying URL 'https://bioconductor.org/packages/3.10/bioc/src/contrib/annotate_1.64.0.tar.gz'\n",
            "Content type 'application/x-gzip' length 1873132 bytes (1.8 MB)\n",
            "==================================================\n",
            "downloaded 1.8 MB\n",
            "\n",
            "trying URL 'https://bioconductor.org/packages/3.10/bioc/src/contrib/genefilter_1.68.0.tar.gz'\n",
            "Content type 'application/x-gzip' length 1421076 bytes (1.4 MB)\n",
            "==================================================\n",
            "downloaded 1.4 MB\n",
            "\n",
            "* installing *source* package ‘annotate’ ...\n",
            "** using staged installation\n",
            "** R\n",
            "** data\n",
            "** inst\n",
            "** byte-compile and prepare package for lazy loading\n",
            "** help\n",
            "*** installing help indices\n",
            "** building package indices\n",
            "** installing vignettes\n",
            "** testing if installed package can be loaded from temporary location\n",
            "** testing if installed package can be loaded from final location\n",
            "** testing if installed package keeps a record of temporary installation path\n",
            "* DONE (annotate)\n",
            "* installing *source* package ‘genefilter’ ...\n",
            "** using staged installation\n",
            "** libs\n",
            "g++ -std=gnu++11 -I\"/usr/share/R/include\" -DNDEBUG     -fpic  -g -O2 -fdebug-prefix-map=/build/r-base-V28x5H/r-base-3.6.3=. -fstack-protector-strong -Wformat -Werror=format-security -Wdate-time -D_FORTIFY_SOURCE=2 -g  -c half_range_mode.cpp -o half_range_mode.o\n",
            "gcc -std=gnu99 -I\"/usr/share/R/include\" -DNDEBUG     -fpic  -g -O2 -fdebug-prefix-map=/build/r-base-V28x5H/r-base-3.6.3=. -fstack-protector-strong -Wformat -Werror=format-security -Wdate-time -D_FORTIFY_SOURCE=2 -g  -c init.c -o init.o\n",
            "gcc -std=gnu99 -I\"/usr/share/R/include\" -DNDEBUG     -fpic  -g -O2 -fdebug-prefix-map=/build/r-base-V28x5H/r-base-3.6.3=. -fstack-protector-strong -Wformat -Werror=format-security -Wdate-time -D_FORTIFY_SOURCE=2 -g  -c nd.c -o nd.o\n",
            "gcc -std=gnu99 -I\"/usr/share/R/include\" -DNDEBUG     -fpic  -g -O2 -fdebug-prefix-map=/build/r-base-V28x5H/r-base-3.6.3=. -fstack-protector-strong -Wformat -Werror=format-security -Wdate-time -D_FORTIFY_SOURCE=2 -g  -c pAUC.c -o pAUC.o\n",
            "gcc -std=gnu99 -I\"/usr/share/R/include\" -DNDEBUG     -fpic  -g -O2 -fdebug-prefix-map=/build/r-base-V28x5H/r-base-3.6.3=. -fstack-protector-strong -Wformat -Werror=format-security -Wdate-time -D_FORTIFY_SOURCE=2 -g  -c rowPAUCs.c -o rowPAUCs.o\n",
            "gcc -std=gnu99 -I\"/usr/share/R/include\" -DNDEBUG     -fpic  -g -O2 -fdebug-prefix-map=/build/r-base-V28x5H/r-base-3.6.3=. -fstack-protector-strong -Wformat -Werror=format-security -Wdate-time -D_FORTIFY_SOURCE=2 -g  -c rowttests.c -o rowttests.o\n",
            "gfortran -fno-optimize-sibling-calls  -fpic  -g -O2 -fdebug-prefix-map=/build/r-base-V28x5H/r-base-3.6.3=. -fstack-protector-strong  -c ttest.f -o ttest.o\n",
            "g++ -std=gnu++11 -shared -L/usr/lib/R/lib -Wl,-Bsymbolic-functions -Wl,-z,relro -o genefilter.so half_range_mode.o init.o nd.o pAUC.o rowPAUCs.o rowttests.o ttest.o -lgfortran -lm -lquadmath -L/usr/lib/R/lib -lR\n",
            "installing to /usr/local/lib/R/site-library/00LOCK-genefilter/00new/genefilter/libs\n",
            "** R\n",
            "** data\n",
            "*** moving datasets to lazyload DB\n",
            "** inst\n",
            "** byte-compile and prepare package for lazy loading\n",
            "** help\n",
            "*** installing help indices\n",
            "** building package indices\n",
            "** installing vignettes\n",
            "** testing if installed package can be loaded from temporary location\n",
            "** checking absolute paths in shared objects and dynamic libraries\n",
            "** testing if installed package can be loaded from final location\n",
            "** testing if installed package keeps a record of temporary installation path\n",
            "* DONE (genefilter)\n",
            "\n",
            "The downloaded source packages are in\n",
            "\t‘/tmp/RtmpWZfNcV/downloaded_packages’\n",
            "Old packages: 'curl', 'farver', 'pillar', 'pkgbuild', 'processx', 'ps', 'rex',\n",
            "  'rprojroot', 'scales', 'tidyr', 'tidyselect', 'vctrs'\n"
          ],
          "name": "stdout"
        }
      ]
    },
    {
      "cell_type": "markdown",
      "metadata": {
        "id": "64QoVxlq7xMc",
        "colab_type": "text"
      },
      "source": [
        "# Creating folder structure"
      ]
    },
    {
      "cell_type": "code",
      "metadata": {
        "id": "malSkrjH1rff",
        "colab_type": "code",
        "outputId": "370231e1-e92b-4fc7-fa83-ba9ae54819a5",
        "colab": {
          "base_uri": "https://localhost:8080/",
          "height": 34
        }
      },
      "source": [
        "!mkdir fastq\n",
        "!mkdir kalisto_results"
      ],
      "execution_count": 0,
      "outputs": [
        {
          "output_type": "stream",
          "text": [
            "mkdir: cannot create directory ‘fastq’: File exists\n"
          ],
          "name": "stdout"
        }
      ]
    },
    {
      "cell_type": "code",
      "metadata": {
        "id": "_sNYvcf713J0",
        "colab_type": "code",
        "outputId": "e232e4d2-41be-46d2-afb3-96cab1c3f73d",
        "colab": {
          "base_uri": "https://localhost:8080/",
          "height": 34
        }
      },
      "source": [
        "%cd fastq "
      ],
      "execution_count": 0,
      "outputs": [
        {
          "output_type": "stream",
          "text": [
            "/content/fastq\n"
          ],
          "name": "stdout"
        }
      ]
    },
    {
      "cell_type": "markdown",
      "metadata": {
        "id": "V5VcxIT902L8",
        "colab_type": "text"
      },
      "source": [
        "# Download sample fastq files"
      ]
    },
    {
      "cell_type": "markdown",
      "metadata": {
        "id": "QiPuK4j61igQ",
        "colab_type": "text"
      },
      "source": [
        "Sample1\n"
      ]
    },
    {
      "cell_type": "code",
      "metadata": {
        "id": "IhMuPK8M1mHx",
        "colab_type": "code",
        "outputId": "77c40ff8-4691-4836-bf43-7d398ee16223",
        "colab": {
          "base_uri": "https://localhost:8080/",
          "height": 550
        }
      },
      "source": [
        "!wget -P sample1/ ftp://ftp.sra.ebi.ac.uk/vol1/fastq/SRR691/000/SRR6914400/SRR6914400_1.fastq.gz\n",
        "!wget -P sample1/ ftp://ftp.sra.ebi.ac.uk/vol1/fastq/SRR691/000/SRR6914400/SRR6914400_2.fastq.gz"
      ],
      "execution_count": 0,
      "outputs": [
        {
          "output_type": "stream",
          "text": [
            "--2020-05-12 14:45:53--  ftp://ftp.sra.ebi.ac.uk/vol1/fastq/SRR691/000/SRR6914400/SRR6914400_1.fastq.gz\n",
            "           => ‘sample1/SRR6914400_1.fastq.gz’\n",
            "Resolving ftp.sra.ebi.ac.uk (ftp.sra.ebi.ac.uk)... 193.62.197.74\n",
            "Connecting to ftp.sra.ebi.ac.uk (ftp.sra.ebi.ac.uk)|193.62.197.74|:21... connected.\n",
            "Logging in as anonymous ... Logged in!\n",
            "==> SYST ... done.    ==> PWD ... done.\n",
            "==> TYPE I ... done.  ==> CWD (1) /vol1/fastq/SRR691/000/SRR6914400 ... done.\n",
            "==> SIZE SRR6914400_1.fastq.gz ... 157464193\n",
            "==> PASV ... done.    ==> RETR SRR6914400_1.fastq.gz ... done.\n",
            "Length: 157464193 (150M) (unauthoritative)\n",
            "\n",
            "SRR6914400_1.fastq. 100%[===================>] 150.17M  7.21MB/s    in 18s     \n",
            "\n",
            "2020-05-12 14:46:15 (8.29 MB/s) - ‘sample1/SRR6914400_1.fastq.gz’ saved [157464193]\n",
            "\n",
            "--2020-05-12 14:46:17--  ftp://ftp.sra.ebi.ac.uk/vol1/fastq/SRR691/000/SRR6914400/SRR6914400_2.fastq.gz\n",
            "           => ‘sample1/SRR6914400_2.fastq.gz’\n",
            "Resolving ftp.sra.ebi.ac.uk (ftp.sra.ebi.ac.uk)... 193.62.197.74\n",
            "Connecting to ftp.sra.ebi.ac.uk (ftp.sra.ebi.ac.uk)|193.62.197.74|:21... connected.\n",
            "Logging in as anonymous ... Logged in!\n",
            "==> SYST ... done.    ==> PWD ... done.\n",
            "==> TYPE I ... done.  ==> CWD (1) /vol1/fastq/SRR691/000/SRR6914400 ... done.\n",
            "==> SIZE SRR6914400_2.fastq.gz ... 174804972\n",
            "==> PASV ... done.    ==> RETR SRR6914400_2.fastq.gz ... done.\n",
            "Length: 174804972 (167M) (unauthoritative)\n",
            "\n",
            "SRR6914400_2.fastq. 100%[===================>] 166.71M  4.82MB/s    in 28s     \n",
            "\n",
            "2020-05-12 14:46:49 (5.94 MB/s) - ‘sample1/SRR6914400_2.fastq.gz’ saved [174804972]\n",
            "\n"
          ],
          "name": "stdout"
        }
      ]
    },
    {
      "cell_type": "markdown",
      "metadata": {
        "id": "WXRaW_v13FJx",
        "colab_type": "text"
      },
      "source": [
        "Sample2"
      ]
    },
    {
      "cell_type": "code",
      "metadata": {
        "id": "U7_TZGX-3EXi",
        "colab_type": "code",
        "outputId": "c1e3cb3a-4f88-4ba4-a51d-0e60eab991b1",
        "colab": {
          "base_uri": "https://localhost:8080/",
          "height": 550
        }
      },
      "source": [
        "!wget -P sample2/ ftp://ftp.sra.ebi.ac.uk/vol1/fastq/SRR691/001/SRR6914401/SRR6914401_1.fastq.gz\n",
        "!wget -P sample2/ ftp://ftp.sra.ebi.ac.uk/vol1/fastq/SRR691/001/SRR6914401/SRR6914401_2.fastq.gz"
      ],
      "execution_count": 0,
      "outputs": [
        {
          "output_type": "stream",
          "text": [
            "--2020-05-12 14:46:50--  ftp://ftp.sra.ebi.ac.uk/vol1/fastq/SRR691/001/SRR6914401/SRR6914401_1.fastq.gz\n",
            "           => ‘sample2/SRR6914401_1.fastq.gz’\n",
            "Resolving ftp.sra.ebi.ac.uk (ftp.sra.ebi.ac.uk)... 193.62.197.74\n",
            "Connecting to ftp.sra.ebi.ac.uk (ftp.sra.ebi.ac.uk)|193.62.197.74|:21... connected.\n",
            "Logging in as anonymous ... Logged in!\n",
            "==> SYST ... done.    ==> PWD ... done.\n",
            "==> TYPE I ... done.  ==> CWD (1) /vol1/fastq/SRR691/001/SRR6914401 ... done.\n",
            "==> SIZE SRR6914401_1.fastq.gz ... 150135916\n",
            "==> PASV ... done.    ==> RETR SRR6914401_1.fastq.gz ... done.\n",
            "Length: 150135916 (143M) (unauthoritative)\n",
            "\n",
            "SRR6914401_1.fastq. 100%[===================>] 143.18M  11.7MB/s    in 15s     \n",
            "\n",
            "2020-05-12 14:47:10 (9.41 MB/s) - ‘sample2/SRR6914401_1.fastq.gz’ saved [150135916]\n",
            "\n",
            "--2020-05-12 14:47:15--  ftp://ftp.sra.ebi.ac.uk/vol1/fastq/SRR691/001/SRR6914401/SRR6914401_2.fastq.gz\n",
            "           => ‘sample2/SRR6914401_2.fastq.gz’\n",
            "Resolving ftp.sra.ebi.ac.uk (ftp.sra.ebi.ac.uk)... 193.62.197.74\n",
            "Connecting to ftp.sra.ebi.ac.uk (ftp.sra.ebi.ac.uk)|193.62.197.74|:21... connected.\n",
            "Logging in as anonymous ... Logged in!\n",
            "==> SYST ... done.    ==> PWD ... done.\n",
            "==> TYPE I ... done.  ==> CWD (1) /vol1/fastq/SRR691/001/SRR6914401 ... done.\n",
            "==> SIZE SRR6914401_2.fastq.gz ... 165974942\n",
            "==> PASV ... done.    ==> RETR SRR6914401_2.fastq.gz ... done.\n",
            "Length: 165974942 (158M) (unauthoritative)\n",
            "\n",
            "SRR6914401_2.fastq. 100%[===================>] 158.29M  5.93MB/s    in 21s     \n",
            "\n",
            "2020-05-12 14:47:40 (7.38 MB/s) - ‘sample2/SRR6914401_2.fastq.gz’ saved [165974942]\n",
            "\n"
          ],
          "name": "stdout"
        }
      ]
    },
    {
      "cell_type": "markdown",
      "metadata": {
        "id": "uxvSETFS4mTG",
        "colab_type": "text"
      },
      "source": [
        "Sample3\n"
      ]
    },
    {
      "cell_type": "code",
      "metadata": {
        "id": "IWtMpvdP4mkI",
        "colab_type": "code",
        "outputId": "99020041-c81c-4bd4-d6b9-e5d63209f6b4",
        "colab": {
          "base_uri": "https://localhost:8080/",
          "height": 550
        }
      },
      "source": [
        "!wget -P sample3/ ftp://ftp.sra.ebi.ac.uk/vol1/fastq/SRR691/002/SRR6914402/SRR6914402_1.fastq.gz\n",
        "!wget -P sample3/ ftp://ftp.sra.ebi.ac.uk/vol1/fastq/SRR691/002/SRR6914402/SRR6914402_2.fastq.gz"
      ],
      "execution_count": 0,
      "outputs": [
        {
          "output_type": "stream",
          "text": [
            "--2020-05-12 14:47:42--  ftp://ftp.sra.ebi.ac.uk/vol1/fastq/SRR691/002/SRR6914402/SRR6914402_1.fastq.gz\n",
            "           => ‘sample3/SRR6914402_1.fastq.gz’\n",
            "Resolving ftp.sra.ebi.ac.uk (ftp.sra.ebi.ac.uk)... 193.62.197.74\n",
            "Connecting to ftp.sra.ebi.ac.uk (ftp.sra.ebi.ac.uk)|193.62.197.74|:21... connected.\n",
            "Logging in as anonymous ... Logged in!\n",
            "==> SYST ... done.    ==> PWD ... done.\n",
            "==> TYPE I ... done.  ==> CWD (1) /vol1/fastq/SRR691/002/SRR6914402 ... done.\n",
            "==> SIZE SRR6914402_1.fastq.gz ... 162819206\n",
            "==> PASV ... done.    ==> RETR SRR6914402_1.fastq.gz ... done.\n",
            "Length: 162819206 (155M) (unauthoritative)\n",
            "\n",
            "SRR6914402_1.fastq. 100%[===================>] 155.28M  1.65MB/s    in 75s     \n",
            "\n",
            "2020-05-12 14:49:00 (2.08 MB/s) - ‘sample3/SRR6914402_1.fastq.gz’ saved [162819206]\n",
            "\n",
            "--2020-05-12 14:49:02--  ftp://ftp.sra.ebi.ac.uk/vol1/fastq/SRR691/002/SRR6914402/SRR6914402_2.fastq.gz\n",
            "           => ‘sample3/SRR6914402_2.fastq.gz’\n",
            "Resolving ftp.sra.ebi.ac.uk (ftp.sra.ebi.ac.uk)... 193.62.197.74\n",
            "Connecting to ftp.sra.ebi.ac.uk (ftp.sra.ebi.ac.uk)|193.62.197.74|:21... connected.\n",
            "Logging in as anonymous ... Logged in!\n",
            "==> SYST ... done.    ==> PWD ... done.\n",
            "==> TYPE I ... done.  ==> CWD (1) /vol1/fastq/SRR691/002/SRR6914402 ... done.\n",
            "==> SIZE SRR6914402_2.fastq.gz ... 167601871\n",
            "==> PASV ... done.    ==> RETR SRR6914402_2.fastq.gz ... done.\n",
            "Length: 167601871 (160M) (unauthoritative)\n",
            "\n",
            "SRR6914402_2.fastq. 100%[===================>] 159.84M  7.83MB/s    in 23s     \n",
            "\n",
            "2020-05-12 14:49:29 (7.06 MB/s) - ‘sample3/SRR6914402_2.fastq.gz’ saved [167601871]\n",
            "\n"
          ],
          "name": "stdout"
        }
      ]
    },
    {
      "cell_type": "markdown",
      "metadata": {
        "id": "e31lFnnA4wwT",
        "colab_type": "text"
      },
      "source": [
        "Sample4"
      ]
    },
    {
      "cell_type": "code",
      "metadata": {
        "id": "HMM2cQLV4x8n",
        "colab_type": "code",
        "outputId": "5ffd20ce-7870-4d3a-e7be-e6a6bfdbb91f",
        "colab": {
          "base_uri": "https://localhost:8080/",
          "height": 550
        }
      },
      "source": [
        "!wget -P sample4/ ftp://ftp.sra.ebi.ac.uk/vol1/fastq/SRR691/003/SRR6914403/SRR6914403_1.fastq.gz\n",
        "!wget -P sample4/ ftp://ftp.sra.ebi.ac.uk/vol1/fastq/SRR691/003/SRR6914403/SRR6914403_2.fastq.gz"
      ],
      "execution_count": 0,
      "outputs": [
        {
          "output_type": "stream",
          "text": [
            "--2020-05-12 14:49:31--  ftp://ftp.sra.ebi.ac.uk/vol1/fastq/SRR691/003/SRR6914403/SRR6914403_1.fastq.gz\n",
            "           => ‘sample4/SRR6914403_1.fastq.gz’\n",
            "Resolving ftp.sra.ebi.ac.uk (ftp.sra.ebi.ac.uk)... 193.62.197.74\n",
            "Connecting to ftp.sra.ebi.ac.uk (ftp.sra.ebi.ac.uk)|193.62.197.74|:21... connected.\n",
            "Logging in as anonymous ... Logged in!\n",
            "==> SYST ... done.    ==> PWD ... done.\n",
            "==> TYPE I ... done.  ==> CWD (1) /vol1/fastq/SRR691/003/SRR6914403 ... done.\n",
            "==> SIZE SRR6914403_1.fastq.gz ... 133773423\n",
            "==> PASV ... done.    ==> RETR SRR6914403_1.fastq.gz ... done.\n",
            "Length: 133773423 (128M) (unauthoritative)\n",
            "\n",
            "SRR6914403_1.fastq. 100%[===================>] 127.58M  7.17MB/s    in 20s     \n",
            "\n",
            "2020-05-12 14:49:55 (6.38 MB/s) - ‘sample4/SRR6914403_1.fastq.gz’ saved [133773423]\n",
            "\n",
            "--2020-05-12 14:49:56--  ftp://ftp.sra.ebi.ac.uk/vol1/fastq/SRR691/003/SRR6914403/SRR6914403_2.fastq.gz\n",
            "           => ‘sample4/SRR6914403_2.fastq.gz’\n",
            "Resolving ftp.sra.ebi.ac.uk (ftp.sra.ebi.ac.uk)... 193.62.197.74\n",
            "Connecting to ftp.sra.ebi.ac.uk (ftp.sra.ebi.ac.uk)|193.62.197.74|:21... connected.\n",
            "Logging in as anonymous ... Logged in!\n",
            "==> SYST ... done.    ==> PWD ... done.\n",
            "==> TYPE I ... done.  ==> CWD (1) /vol1/fastq/SRR691/003/SRR6914403 ... done.\n",
            "==> SIZE SRR6914403_2.fastq.gz ... 137764234\n",
            "==> PASV ... done.    ==> RETR SRR6914403_2.fastq.gz ... done.\n",
            "Length: 137764234 (131M) (unauthoritative)\n",
            "\n",
            "SRR6914403_2.fastq. 100%[===================>] 131.38M  8.76MB/s    in 17s     \n",
            "\n",
            "2020-05-12 14:50:16 (7.95 MB/s) - ‘sample4/SRR6914403_2.fastq.gz’ saved [137764234]\n",
            "\n"
          ],
          "name": "stdout"
        }
      ]
    },
    {
      "cell_type": "code",
      "metadata": {
        "id": "1WCElguiUllN",
        "colab_type": "code",
        "outputId": "24aa28ee-7991-497a-d864-8ff752921aa9",
        "colab": {
          "base_uri": "https://localhost:8080/",
          "height": 34
        }
      },
      "source": [
        "%cd .."
      ],
      "execution_count": 0,
      "outputs": [
        {
          "output_type": "stream",
          "text": [
            "/content\n"
          ],
          "name": "stdout"
        }
      ]
    },
    {
      "cell_type": "markdown",
      "metadata": {
        "id": "1WbMoxdt1m_A",
        "colab_type": "text"
      },
      "source": [
        "# Alingment "
      ]
    },
    {
      "cell_type": "markdown",
      "metadata": {
        "id": "Vf22ruOVHZEj",
        "colab_type": "text"
      },
      "source": [
        "## Kallisto alignment (compatible with Txtimport)"
      ]
    },
    {
      "cell_type": "code",
      "metadata": {
        "id": "nG1Lj6iIFjXg",
        "colab_type": "code",
        "outputId": "4d3a19e3-2d02-47cf-ebf3-9428d28658fe",
        "colab": {
          "base_uri": "https://localhost:8080/",
          "height": 498
        }
      },
      "source": [
        "%%time\n",
        "%%!\n",
        "cd fastq\n",
        "for DIR in $(ls -d */); do\n",
        "  echo $DIR\n",
        "  cd $DIR\n",
        "  seq_file1=*_1.fastq.gz\n",
        "  seq_file2=*_2.fastq.gz\n",
        "  base=$(echo $seq_file1|awk '{print substr($0, 1, length()-11)}')\n",
        "  echo $base\n",
        "  echo \"Running Kallisto with the following code\"\n",
        "  echo \"/content/kallisto/kallisto quant -i /content/kallisto_index.idx --bias -o /content/kalisto_results/$DIR -t 2 $seq_file1 $seq_file2 >>log 2>&1\"\n",
        "  echo $seq_file1\n",
        "  echo $seq_file2\n",
        "  /content/kallisto/kallisto quant -i /content/kallisto_index.idx --bias -o /content/kalisto_results/$base -t 2 $seq_file1 $seq_file2 >>log 2>&1\n",
        "  cd ..\n",
        "done"
      ],
      "execution_count": 0,
      "outputs": [
        {
          "output_type": "stream",
          "text": [
            "CPU times: user 551 ms, sys: 87.2 ms, total: 638 ms\n",
            "Wall time: 4min 13s\n"
          ],
          "name": "stdout"
        },
        {
          "output_type": "execute_result",
          "data": {
            "text/plain": [
              "['sample1/',\n",
              " 'SRR6914400',\n",
              " 'Running Kallisto with the following code',\n",
              " '/content/kallisto/kallisto quant -i /content/kallisto_index.idx --bias -o /content/kalisto_results/sample1/ -t 2 *_1.fastq.gz *_2.fastq.gz >>log 2>&1',\n",
              " 'SRR6914400_1.fastq.gz',\n",
              " 'SRR6914400_2.fastq.gz',\n",
              " 'sample2/',\n",
              " 'SRR6914401',\n",
              " 'Running Kallisto with the following code',\n",
              " '/content/kallisto/kallisto quant -i /content/kallisto_index.idx --bias -o /content/kalisto_results/sample2/ -t 2 *_1.fastq.gz *_2.fastq.gz >>log 2>&1',\n",
              " 'SRR6914401_1.fastq.gz',\n",
              " 'SRR6914401_2.fastq.gz',\n",
              " 'sample3/',\n",
              " 'SRR6914402',\n",
              " 'Running Kallisto with the following code',\n",
              " '/content/kallisto/kallisto quant -i /content/kallisto_index.idx --bias -o /content/kalisto_results/sample3/ -t 2 *_1.fastq.gz *_2.fastq.gz >>log 2>&1',\n",
              " 'SRR6914402_1.fastq.gz',\n",
              " 'SRR6914402_2.fastq.gz',\n",
              " 'sample4/',\n",
              " 'SRR6914403',\n",
              " 'Running Kallisto with the following code',\n",
              " '/content/kallisto/kallisto quant -i /content/kallisto_index.idx --bias -o /content/kalisto_results/sample4/ -t 2 *_1.fastq.gz *_2.fastq.gz >>log 2>&1',\n",
              " 'SRR6914403_1.fastq.gz',\n",
              " 'SRR6914403_2.fastq.gz']"
            ]
          },
          "metadata": {
            "tags": []
          },
          "execution_count": 18
        }
      ]
    },
    {
      "cell_type": "markdown",
      "metadata": {
        "id": "_xDrzDTtHip7",
        "colab_type": "text"
      },
      "source": [
        "## Kallisto alignment with -b (required for Sleuth)"
      ]
    },
    {
      "cell_type": "code",
      "metadata": {
        "id": "SwNGzlN00li9",
        "colab_type": "code",
        "outputId": "5d7127a8-ca1c-41b2-91f3-f9b9c974f526",
        "colab": {
          "base_uri": "https://localhost:8080/",
          "height": 463
        }
      },
      "source": [
        "%%!\n",
        "cd fastq\n",
        "for DIR in $(ls -d */); do\n",
        "  echo $DIR\n",
        "  cd $DIR\n",
        "  seq_file1=*_1.fastq.gz\n",
        "  seq_file2=*_2.fastq.gz\n",
        "  base=$(echo $seq_file1|awk '{print substr($0, 1, length()-11)}')\n",
        "  echo $base\n",
        "  echo \"Running Kallisto with the following code\"\n",
        "  echo \"/content/kallisto/kallisto quant -i /content/kallisto_index.idx --bias -b 50 -o /content/kalisto_results/$DIR -t 2 $seq_file1 $seq_file2 >>log 2>&1\"\n",
        "  echo $seq_file1\n",
        "  echo $seq_file2\n",
        "  /content/kallisto/kallisto quant -i /content/kallisto_index.idx --bias -b 50 -o /content/kalisto_results/$base -t 2 $seq_file1 $seq_file2 >>log 2>&1\n",
        "  cd ..\n",
        "done"
      ],
      "execution_count": 0,
      "outputs": [
        {
          "output_type": "execute_result",
          "data": {
            "text/plain": [
              "['sample1/',\n",
              " 'SRR6914400',\n",
              " 'Running Kallisto with the following code',\n",
              " '/content/kallisto/kallisto quant -i /content/kallisto_index.idx --bias -b 50 -o /content/kalisto_results/sample1/ -t 2 *_1.fastq.gz *_2.fastq.gz >>log 2>&1',\n",
              " 'SRR6914400_1.fastq.gz',\n",
              " 'SRR6914400_2.fastq.gz',\n",
              " 'sample2/',\n",
              " 'SRR6914401',\n",
              " 'Running Kallisto with the following code',\n",
              " '/content/kallisto/kallisto quant -i /content/kallisto_index.idx --bias -b 50 -o /content/kalisto_results/sample2/ -t 2 *_1.fastq.gz *_2.fastq.gz >>log 2>&1',\n",
              " 'SRR6914401_1.fastq.gz',\n",
              " 'SRR6914401_2.fastq.gz',\n",
              " 'sample3/',\n",
              " 'SRR6914402',\n",
              " 'Running Kallisto with the following code',\n",
              " '/content/kallisto/kallisto quant -i /content/kallisto_index.idx --bias -b 50 -o /content/kalisto_results/sample3/ -t 2 *_1.fastq.gz *_2.fastq.gz >>log 2>&1',\n",
              " 'SRR6914402_1.fastq.gz',\n",
              " 'SRR6914402_2.fastq.gz',\n",
              " 'sample4/',\n",
              " 'SRR6914403',\n",
              " 'Running Kallisto with the following code',\n",
              " '/content/kallisto/kallisto quant -i /content/kallisto_index.idx --bias -b 50 -o /content/kalisto_results/sample4/ -t 2 *_1.fastq.gz *_2.fastq.gz >>log 2>&1',\n",
              " 'SRR6914403_1.fastq.gz',\n",
              " 'SRR6914403_2.fastq.gz']"
            ]
          },
          "metadata": {
            "tags": []
          },
          "execution_count": 13
        }
      ]
    },
    {
      "cell_type": "markdown",
      "metadata": {
        "id": "jKvM191lYqmm",
        "colab_type": "text"
      },
      "source": [
        "# QC"
      ]
    },
    {
      "cell_type": "markdown",
      "metadata": {
        "id": "_dgeUjsHl_KC",
        "colab_type": "text"
      },
      "source": [
        "## FastQC"
      ]
    },
    {
      "cell_type": "code",
      "metadata": {
        "id": "plsj4zc6QdO-",
        "colab_type": "code",
        "colab": {}
      },
      "source": [
        "pwd"
      ],
      "execution_count": 0,
      "outputs": []
    },
    {
      "cell_type": "code",
      "metadata": {
        "id": "pBLNNwVatoHG",
        "colab_type": "code",
        "colab": {}
      },
      "source": [
        "ls"
      ],
      "execution_count": 0,
      "outputs": []
    },
    {
      "cell_type": "code",
      "metadata": {
        "id": "ULwnyDdLYp5E",
        "colab_type": "code",
        "colab": {}
      },
      "source": [
        "%%!\n",
        "cd fastq\n",
        "for DIR in $(ls -d */); do\n",
        "  echo $DIR\n",
        "  cd $DIR\n",
        "  /content/FastQC/fastqc *.fastq.gz\n",
        "  cd ..\n",
        "done"
      ],
      "execution_count": 0,
      "outputs": []
    },
    {
      "cell_type": "code",
      "metadata": {
        "id": "ONOqsusIu1kr",
        "colab_type": "code",
        "colab": {}
      },
      "source": [
        "ls"
      ],
      "execution_count": 0,
      "outputs": []
    },
    {
      "cell_type": "markdown",
      "metadata": {
        "id": "MyLnsAaMmBqR",
        "colab_type": "text"
      },
      "source": [
        "## MultiQC"
      ]
    },
    {
      "cell_type": "code",
      "metadata": {
        "id": "t357F78tl1Ba",
        "colab_type": "code",
        "colab": {}
      },
      "source": [
        "!multiqc ."
      ],
      "execution_count": 0,
      "outputs": []
    },
    {
      "cell_type": "markdown",
      "metadata": {
        "id": "-qf8rRpRjc0W",
        "colab_type": "text"
      },
      "source": [
        "# Creating our gene expresssion matrix with R"
      ]
    },
    {
      "cell_type": "markdown",
      "metadata": {
        "id": "LKlG_mbf4Xh_",
        "colab_type": "text"
      },
      "source": [
        "## Load packages"
      ]
    },
    {
      "cell_type": "code",
      "metadata": {
        "id": "PD5oFxyvZ0O4",
        "colab_type": "code",
        "colab": {}
      },
      "source": [
        "%load_ext rpy2.ipython"
      ],
      "execution_count": 0,
      "outputs": []
    },
    {
      "cell_type": "code",
      "metadata": {
        "id": "4XCYywjBc_I7",
        "colab_type": "code",
        "outputId": "887e0381-dc5d-4d2e-cf2e-d47f9f70a7f0",
        "colab": {
          "base_uri": "https://localhost:8080/",
          "height": 773
        }
      },
      "source": [
        "from rpy2.robjects.lib import grdevices\n",
        "\n",
        "with grdevices.render_to_bytesio(grdevices.png, \n",
        "                                 width=300,\n",
        "                                 height=300, \n",
        "                                 res=300) as b:\n",
        "    result = func(*args, **kwargs) \n",
        "\n",
        "from IPython.display import Image, display\n",
        "data = b.getvalue()\n",
        "display(Image(data=data, format='png', embed=True))"
      ],
      "execution_count": 0,
      "outputs": [
        {
          "output_type": "stream",
          "text": [
            "ERROR:root:Internal Python error in the inspect module.\n",
            "Below is the traceback from this internal error.\n",
            "\n"
          ],
          "name": "stderr"
        },
        {
          "output_type": "stream",
          "text": [
            "Traceback (most recent call last):\n",
            "  File \"/usr/local/lib/python3.6/dist-packages/IPython/core/interactiveshell.py\", line 2882, in run_code\n",
            "    exec(code_obj, self.user_global_ns, self.user_ns)\n",
            "  File \"<ipython-input-51-ec9bcec9ffa1>\", line 7, in <module>\n",
            "    result = func(*args, **kwargs)\n",
            "NameError: name 'func' is not defined\n",
            "\n",
            "During handling of the above exception, another exception occurred:\n",
            "\n",
            "Traceback (most recent call last):\n",
            "  File \"/usr/local/lib/python3.6/dist-packages/IPython/core/interactiveshell.py\", line 1823, in showtraceback\n",
            "    stb = value._render_traceback_()\n",
            "AttributeError: 'NameError' object has no attribute '_render_traceback_'\n",
            "\n",
            "During handling of the above exception, another exception occurred:\n",
            "\n",
            "Traceback (most recent call last):\n",
            "  File \"/usr/local/lib/python3.6/dist-packages/IPython/core/ultratb.py\", line 1132, in get_records\n",
            "    return _fixed_getinnerframes(etb, number_of_lines_of_context, tb_offset)\n",
            "  File \"/usr/local/lib/python3.6/dist-packages/IPython/core/ultratb.py\", line 313, in wrapped\n",
            "    return f(*args, **kwargs)\n",
            "  File \"/usr/local/lib/python3.6/dist-packages/IPython/core/ultratb.py\", line 358, in _fixed_getinnerframes\n",
            "    records = fix_frame_records_filenames(inspect.getinnerframes(etb, context))\n",
            "  File \"/usr/lib/python3.6/inspect.py\", line 1490, in getinnerframes\n",
            "    frameinfo = (tb.tb_frame,) + getframeinfo(tb, context)\n",
            "  File \"/usr/lib/python3.6/inspect.py\", line 1448, in getframeinfo\n",
            "    filename = getsourcefile(frame) or getfile(frame)\n",
            "  File \"/usr/lib/python3.6/inspect.py\", line 696, in getsourcefile\n",
            "    if getattr(getmodule(object, filename), '__loader__', None) is not None:\n",
            "  File \"/usr/lib/python3.6/inspect.py\", line 725, in getmodule\n",
            "    file = getabsfile(object, _filename)\n",
            "  File \"/usr/lib/python3.6/inspect.py\", line 709, in getabsfile\n",
            "    return os.path.normcase(os.path.abspath(_filename))\n",
            "  File \"/usr/lib/python3.6/posixpath.py\", line 383, in abspath\n",
            "    cwd = os.getcwd()\n",
            "FileNotFoundError: [Errno 2] No such file or directory\n"
          ],
          "name": "stdout"
        },
        {
          "output_type": "error",
          "ename": "NameError",
          "evalue": "ignored",
          "traceback": [
            "\u001b[0;31m---------------------------------------------------------------------------\u001b[0m"
          ]
        }
      ]
    },
    {
      "cell_type": "code",
      "metadata": {
        "id": "5DwqXh0_4anD",
        "colab_type": "code",
        "colab": {}
      },
      "source": [
        "%%R\n",
        "# Load all the R libraries we will be using in the notebook\n",
        "library(tximport)\n",
        "library(biomaRt)\n",
        "library(Biobase)\n",
        "library(ggplot2)\n",
        "library(dplyr)\n",
        "library(tidyverse) \n",
        "library(Biostrings)\n",
        "library(ensembldb)\n",
        "library(EnsDb.Hsapiens.v86) \n",
        "library(rhdf5)\n"
      ],
      "execution_count": 0,
      "outputs": []
    },
    {
      "cell_type": "markdown",
      "metadata": {
        "id": "hXBX3gFIf2I1",
        "colab_type": "text"
      },
      "source": [
        "## Set WD"
      ]
    },
    {
      "cell_type": "code",
      "metadata": {
        "id": "cgUJj5Lyf0nB",
        "colab_type": "code",
        "outputId": "979b2745-bf88-4d59-d70f-2bd96b125658",
        "colab": {
          "base_uri": "https://localhost:8080/",
          "height": 212
        }
      },
      "source": [
        "%%R\n",
        "setwd(\"/content/kalisto_results\")"
      ],
      "execution_count": 0,
      "outputs": [
        {
          "output_type": "stream",
          "text": [
            "R[write to console]: Error in setwd(\"/content/kalisto_results\") : \n",
            "  cannot change working directory\n",
            "\n",
            "R[write to console]: In addition: \n",
            "R[write to console]: Warning message:\n",
            "\n",
            "R[write to console]: Removed 5 rows containing missing values (geom_point). \n",
            "\n"
          ],
          "name": "stderr"
        },
        {
          "output_type": "stream",
          "text": [
            "\n",
            "Error in setwd(\"/content/kalisto_results\") : \n",
            "  cannot change working directory\n"
          ],
          "name": "stdout"
        }
      ]
    },
    {
      "cell_type": "markdown",
      "metadata": {
        "id": "IIzJQFp3f6t7",
        "colab_type": "text"
      },
      "source": [
        "## T2G table "
      ]
    },
    {
      "cell_type": "code",
      "metadata": {
        "id": "d1OwvciH4_6i",
        "colab_type": "code",
        "outputId": "f050b448-794f-4c3f-f0e3-312b86549038",
        "colab": {
          "base_uri": "https://localhost:8080/",
          "height": 123
        }
      },
      "source": [
        "%%R\n",
        "listTables(EnsDb.Hsapiens.v86)\n",
        "listColumns(EnsDb.Hsapiens.v86, \"tx\")\n",
        "Tx <- transcripts(EnsDb.Hsapiens.v86, columns=c(listColumns(EnsDb.Hsapiens.v86,\"tx\"), \"gene_name\"))\n",
        "Tx <- as_tibble(Tx)\n",
        "Tx <- dplyr::rename(Tx, target_id = tx_id)\n",
        "Tx <- dplyr::select(Tx, target_id, gene_name)\n",
        "print(dim(Tx))\n",
        "head(Tx)"
      ],
      "execution_count": 0,
      "outputs": [
        {
          "output_type": "stream",
          "text": [
            "R[write to console]: Error in listTables(EnsDb.Hsapiens.v86) : \n",
            "  could not find function \"listTables\"\n",
            "\n"
          ],
          "name": "stderr"
        },
        {
          "output_type": "stream",
          "text": [
            "\n",
            "Error in listTables(EnsDb.Hsapiens.v86) : \n",
            "  could not find function \"listTables\"\n"
          ],
          "name": "stdout"
        }
      ]
    },
    {
      "cell_type": "markdown",
      "metadata": {
        "id": "gJO8JA8egCg_",
        "colab_type": "text"
      },
      "source": [
        "## Create metadata"
      ]
    },
    {
      "cell_type": "code",
      "metadata": {
        "id": "XNaetOtWGQjP",
        "colab_type": "code",
        "outputId": "f76a357d-edba-404b-f452-7e2e8a269304",
        "colab": {
          "base_uri": "https://localhost:8080/",
          "height": 105
        }
      },
      "source": [
        "%%R\n",
        "metadata <- matrix(c(\"sample1\",\"SRR6914400\",\"sample2\",\"SRR6914401\",\"sample3\",\"SRR6914402\",\"sample4\",\"SRR6914403\"),ncol=2,byrow=TRUE)\n",
        "colnames(metadata) <- c(\"sample\",\"folder\")\n",
        "metadata <- as.data.frame(metadata)\n",
        "metadata"
      ],
      "execution_count": 0,
      "outputs": [
        {
          "output_type": "stream",
          "text": [
            "   sample     folder\n",
            "1 sample1 SRR6914400\n",
            "2 sample2 SRR6914401\n",
            "3 sample3 SRR6914402\n",
            "4 sample4 SRR6914403\n"
          ],
          "name": "stdout"
        }
      ]
    },
    {
      "cell_type": "markdown",
      "metadata": {
        "id": "wIOOefZop64_",
        "colab_type": "text"
      },
      "source": [
        "## Upload metadata from csv (Alternative)"
      ]
    },
    {
      "cell_type": "code",
      "metadata": {
        "id": "7tphVlm2qBDk",
        "colab_type": "code",
        "colab": {}
      },
      "source": [
        "metadata<-read.csv(\"Path to file\")"
      ],
      "execution_count": 0,
      "outputs": []
    },
    {
      "cell_type": "markdown",
      "metadata": {
        "id": "yfmEC3lsgIIb",
        "colab_type": "text"
      },
      "source": [
        "## Check paths"
      ]
    },
    {
      "cell_type": "code",
      "metadata": {
        "id": "xEgto-zoGT2r",
        "colab_type": "code",
        "outputId": "530c129c-8e99-4c14-9d6b-d8e99f961a93",
        "colab": {
          "base_uri": "https://localhost:8080/",
          "height": 34
        }
      },
      "source": [
        "%%R\n",
        "path <- file.path(metadata$folder, \"abundance.h5\")\n",
        "all(file.exists(path)) "
      ],
      "execution_count": 0,
      "outputs": [
        {
          "output_type": "stream",
          "text": [
            "[1] TRUE\n"
          ],
          "name": "stdout"
        }
      ]
    },
    {
      "cell_type": "markdown",
      "metadata": {
        "id": "XxLzumoZibPA",
        "colab_type": "text"
      },
      "source": [
        "## Summary of kallisto quant resuls"
      ]
    },
    {
      "cell_type": "code",
      "metadata": {
        "id": "ACcWyIUtGWKs",
        "colab_type": "code",
        "outputId": "91bead6b-b3ec-4924-9bf3-6d081ca9f2a8",
        "colab": {
          "base_uri": "https://localhost:8080/",
          "height": 283
        }
      },
      "source": [
        "%%R\n",
        "Txi_gene <- tximport(path, \n",
        "                     type = \"kallisto\", \n",
        "                     tx2gene = Tx, \n",
        "                     txOut = FALSE, #How does the result change if this =FALSE vs =TRUE?\n",
        "                     countsFromAbundance = \"lengthScaledTPM\",\n",
        "                     ignoreTxVersion=TRUE)\n",
        "\n",
        "colSums(Txi_gene$counts)"
      ],
      "execution_count": 0,
      "outputs": [
        {
          "output_type": "stream",
          "text": [
            "R[write to console]: 1 \n",
            "R[write to console]: 2 \n",
            "R[write to console]: 3 \n",
            "R[write to console]: 4 \n",
            "R[write to console]: \n",
            "\n",
            "R[write to console]: transcripts missing from tx2gene: 9784\n",
            "\n",
            "R[write to console]: summarizing abundance\n",
            "\n",
            "R[write to console]: summarizing counts\n",
            "\n",
            "R[write to console]: summarizing length\n",
            "\n"
          ],
          "name": "stderr"
        },
        {
          "output_type": "stream",
          "text": [
            "[1] 4152834 4136155 4689889 4043707\n"
          ],
          "name": "stdout"
        }
      ]
    },
    {
      "cell_type": "markdown",
      "metadata": {
        "id": "_8vFmG01inok",
        "colab_type": "text"
      },
      "source": [
        "## Extract information you choose from pseudo-alignment results"
      ]
    },
    {
      "cell_type": "code",
      "metadata": {
        "id": "g5eV46SDGYF3",
        "colab_type": "code",
        "colab": {}
      },
      "source": [
        "%%R\n",
        "raw.data <- Txi_gene$counts\n",
        "colnames(raw.data) <- metadata$folder\n",
        "dim(raw.data)\n",
        "write.csv(raw.data,file=\"Data_kallisto_counts.csv\")"
      ],
      "execution_count": 0,
      "outputs": []
    },
    {
      "cell_type": "code",
      "metadata": {
        "id": "Dgs1pMW1YIUA",
        "colab_type": "code",
        "outputId": "f98e5798-c38e-459a-c693-fafc56178537",
        "colab": {
          "base_uri": "https://localhost:8080/",
          "height": 141
        }
      },
      "source": [
        "%%R\n",
        "head(raw.data)"
      ],
      "execution_count": 0,
      "outputs": [
        {
          "output_type": "stream",
          "text": [
            "        SRR6914400 SRR6914401 SRR6914402 SRR6914403\n",
            "5S_rRNA   0.000000  0.0000000   0.000000   0.000000\n",
            "A1BG    128.859924  4.2104605 396.445958   1.269421\n",
            "A1CF      0.000000  3.7558551   0.000000   0.000000\n",
            "A2M       0.000000  0.0000000   0.000000   0.000000\n",
            "A2ML1     1.091845  0.9452329   7.273201   0.000000\n",
            "A2MP1     0.000000  0.0000000   0.000000   0.000000\n"
          ],
          "name": "stdout"
        }
      ]
    },
    {
      "cell_type": "code",
      "metadata": {
        "id": "7QowN-0RGaBH",
        "colab_type": "code",
        "colab": {}
      },
      "source": [
        "%%R -o raw_data\n",
        "raw_data <- Txi_gene$abundance\n",
        "colnames(raw_data) <- metadata$folder\n",
        "dim(raw_data)\n",
        "write.csv(raw_data,file=\"Data_kallisto_TPM.csv\")"
      ],
      "execution_count": 0,
      "outputs": []
    },
    {
      "cell_type": "code",
      "metadata": {
        "id": "vH6fSckNVZ0w",
        "colab_type": "code",
        "outputId": "b0ad33c0-2d7f-4509-ff7a-d5dea38d5f83",
        "colab": {
          "base_uri": "https://localhost:8080/",
          "height": 141
        }
      },
      "source": [
        "%%R\n",
        "head(raw_data)"
      ],
      "execution_count": 0,
      "outputs": [
        {
          "output_type": "stream",
          "text": [
            "         SRR6914400 SRR6914401 SRR6914402 SRR6914403\n",
            "5S_rRNA  0.00000000 0.00000000    0.00000  0.0000000\n",
            "A1BG    23.67540528 0.80899392   63.91172  0.2473736\n",
            "A1CF     0.00000000 0.09277740    0.00000  0.0000000\n",
            "A2M      0.00000000 0.00000000    0.00000  0.0000000\n",
            "A2ML1    0.06860954 0.06211528    0.40102  0.0000000\n",
            "A2MP1    0.00000000 0.00000000    0.00000  0.0000000\n"
          ],
          "name": "stdout"
        }
      ]
    },
    {
      "cell_type": "code",
      "metadata": {
        "id": "nK1Mc8h2VktY",
        "colab_type": "code",
        "colab": {}
      },
      "source": [
        ""
      ],
      "execution_count": 0,
      "outputs": []
    },
    {
      "cell_type": "code",
      "metadata": {
        "id": "dYQ3NbXKTaEn",
        "colab_type": "code",
        "colab": {}
      },
      "source": [
        ""
      ],
      "execution_count": 0,
      "outputs": []
    },
    {
      "cell_type": "markdown",
      "metadata": {
        "id": "MBvAxEpeUtKg",
        "colab_type": "text"
      },
      "source": [
        "# Load the data"
      ]
    },
    {
      "cell_type": "code",
      "metadata": {
        "id": "WsGUtHk_TaKi",
        "colab_type": "code",
        "colab": {}
      },
      "source": [
        "%%R\n",
        "library(tidyverse)\n",
        "library(reshape2) \n",
        "library(genefilter) \n",
        "library(edgeR) \n",
        "library(matrixStats)\n",
        "library(cowplot)\n",
        "library(reshape2) \n",
        "library(genefilter)\n",
        "library(edgeR) \n",
        "library(matrixStats)"
      ],
      "execution_count": 0,
      "outputs": []
    },
    {
      "cell_type": "code",
      "metadata": {
        "id": "m-DIrhMMaXoY",
        "colab_type": "code",
        "outputId": "8cfd9450-98b4-40dc-ac23-5cbac7ebd40d",
        "colab": {
          "base_uri": "https://localhost:8080/",
          "height": 176
        }
      },
      "source": [
        "%%R\n",
        "library(genefilter) "
      ],
      "execution_count": 0,
      "outputs": [
        {
          "output_type": "stream",
          "text": [
            "R[write to console]: \n",
            "Attaching package: 'genefilter'\n",
            "\n",
            "\n",
            "R[write to console]: The following object is masked from 'package:readr':\n",
            "\n",
            "    spec\n",
            "\n",
            "\n"
          ],
          "name": "stderr"
        }
      ]
    },
    {
      "cell_type": "markdown",
      "metadata": {
        "id": "-RlQ_fgbUxjL",
        "colab_type": "text"
      },
      "source": [
        "## Examine your data up to this point"
      ]
    },
    {
      "cell_type": "code",
      "metadata": {
        "id": "ti1l3WP0U0iz",
        "colab_type": "code",
        "outputId": "bd3fb075-d069-4112-e65c-4ae2e6cdcb26",
        "colab": {
          "base_uri": "https://localhost:8080/",
          "height": 34
        }
      },
      "source": [
        "%%R\n",
        "myTPM <- Txi_gene$abundance\n",
        "myCounts <- Txi_gene$counts\n",
        "colSums(myTPM)\n",
        "colSums(myCounts)"
      ],
      "execution_count": 0,
      "outputs": [
        {
          "output_type": "stream",
          "text": [
            "[1] 4152834 4136155 4689889 4043707\n"
          ],
          "name": "stdout"
        }
      ]
    },
    {
      "cell_type": "markdown",
      "metadata": {
        "id": "2DATXIclU7Yl",
        "colab_type": "text"
      },
      "source": [
        "# capture sample labels from the study design"
      ]
    },
    {
      "cell_type": "code",
      "metadata": {
        "id": "KFJF6Ec5U0mn",
        "colab_type": "code",
        "colab": {}
      },
      "source": [
        "sampleLabels <- targets$sample"
      ],
      "execution_count": 0,
      "outputs": []
    },
    {
      "cell_type": "markdown",
      "metadata": {
        "id": "glCXvTD9VBlb",
        "colab_type": "text"
      },
      "source": [
        "## Generate summary stats for your data ----\n",
        "- 1st, calculate summary stats for each transcript or gene, and add these to your data matrix\n",
        "- then use the base R function 'transform' to modify the data matrix (equivalent of Excel's '=')"
      ]
    },
    {
      "cell_type": "code",
      "metadata": {
        "id": "6HExLYhfU0yB",
        "colab_type": "code",
        "outputId": "d15e95fb-be38-414e-dc93-e97547a317b1",
        "colab": {
          "base_uri": "https://localhost:8080/",
          "height": 265
        }
      },
      "source": [
        "%%R\n",
        "myTPM.stats <- transform(myTPM, \n",
        "                         SD=rowSds(myTPM), \n",
        "                         AVG=rowMeans(myTPM),\n",
        "                         MED=rowMedians(myTPM))\n",
        "head(myTPM.stats)"
      ],
      "execution_count": 0,
      "outputs": [
        {
          "output_type": "stream",
          "text": [
            "                 X1         X2       X3        X4         SD         AVG\n",
            "5S_rRNA  0.00000000 0.00000000  0.00000 0.0000000  0.0000000  0.00000000\n",
            "A1BG    23.67540528 0.80899392 63.91172 0.2473736 29.8972204 22.16087361\n",
            "A1CF     0.00000000 0.09277740  0.00000 0.0000000  0.0463887  0.02319435\n",
            "A2M      0.00000000 0.00000000  0.00000 0.0000000  0.0000000  0.00000000\n",
            "A2ML1    0.06860954 0.06211528  0.40102 0.0000000  0.1813785  0.13293621\n",
            "A2MP1    0.00000000 0.00000000  0.00000 0.0000000  0.0000000  0.00000000\n",
            "                MED\n",
            "5S_rRNA  0.00000000\n",
            "A1BG    12.24219960\n",
            "A1CF     0.00000000\n",
            "A2M      0.00000000\n",
            "A2ML1    0.06536241\n",
            "A2MP1    0.00000000\n"
          ],
          "name": "stdout"
        }
      ]
    },
    {
      "cell_type": "code",
      "metadata": {
        "id": "UYVYxq-sfWG1",
        "colab_type": "code",
        "colab": {}
      },
      "source": [
        "dataf = utils.read_csv(\"https://raw.githubusercontent.com/jakevdp/PythonDataScienceHandbook/master/notebooks/data/california_cities.csv\")"
      ],
      "execution_count": 0,
      "outputs": []
    },
    {
      "cell_type": "code",
      "metadata": {
        "id": "fE6_xC7hfoXC",
        "colab_type": "code",
        "colab": {}
      },
      "source": [
        "%load_ext rpy2.ipython"
      ],
      "execution_count": 0,
      "outputs": []
    },
    {
      "cell_type": "code",
      "metadata": {
        "id": "XHXDxpt2fKHC",
        "colab_type": "code",
        "colab": {}
      },
      "source": [
        "%%R\n",
        "install.packages(\"viridis\")\n",
        "library(viridis)\n"
      ],
      "execution_count": 0,
      "outputs": []
    },
    {
      "cell_type": "code",
      "metadata": {
        "id": "3kNP52ccfTXd",
        "colab_type": "code",
        "outputId": "cba9bb2c-e895-445e-9fbe-e96df27b5eb1",
        "colab": {
          "base_uri": "https://localhost:8080/",
          "height": 496
        }
      },
      "source": [
        "%%R -i dataf -w 800\n",
        "library(ggplot2)\n",
        "p <- ggplot(dataf) +\n",
        "     aes_string(x = 'longd',\n",
        "                y = 'latd',\n",
        "                color = 'population_total',\n",
        "                size = 'area_total_km2') +\n",
        "     geom_point(alpha = 0.5) +\n",
        "     scale_x_continuous('Longitude') +\n",
        "     scale_y_continuous('Latitude') +\n",
        "     scale_size(range = c(1, 18)) +\n",
        "     scale_color_viridis(trans='log10') +\n",
        "     ggtitle('California Cities: Area and Population') +\n",
        "     theme_light(base_size=16)\n",
        "print(p)"
      ],
      "execution_count": 0,
      "outputs": [
        {
          "output_type": "display_data",
          "data": {
            "image/png": "[encoded data removed]"
          },
          "metadata": {
            "tags": []
          }
        }
      ]
    },
    {
      "cell_type": "code",
      "metadata": {
        "id": "Y5VCBJy3fKN7",
        "colab_type": "code",
        "colab": {}
      },
      "source": [
        ""
      ],
      "execution_count": 0,
      "outputs": []
    },
    {
      "cell_type": "code",
      "metadata": {
        "id": "5qTu1e8ofKK4",
        "colab_type": "code",
        "colab": {}
      },
      "source": [
        ""
      ],
      "execution_count": 0,
      "outputs": []
    },
    {
      "cell_type": "code",
      "metadata": {
        "id": "SpjI1eZje-E6",
        "colab_type": "code",
        "colab": {}
      },
      "source": [
        "from rpy2.robjects.packages import importr\n",
        "utils = importr('utils')"
      ],
      "execution_count": 0,
      "outputs": []
    },
    {
      "cell_type": "code",
      "metadata": {
        "id": "gCUlWZf2U0vd",
        "colab_type": "code",
        "outputId": "16184df0-ceab-4dc0-eb28-16eeec7f23de",
        "colab": {
          "base_uri": "https://localhost:8080/",
          "height": 496
        }
      },
      "source": [
        "%%R\n",
        "p<-ggplot(myTPM.stats, aes(x=SD, y=MED)) + geom_hex(shape=16, size=2)\n",
        "\n",
        "print(p)"
      ],
      "execution_count": 0,
      "outputs": [
        {
          "output_type": "display_data",
          "data": {
            "image/png": "[encoded data removed]"
          },
          "metadata": {
            "tags": []
          }
        }
      ]
    },
    {
      "cell_type": "code",
      "metadata": {
        "id": "HnYA1ADRU0qQ",
        "colab_type": "code",
        "outputId": "c9a6ff90-8bbb-44ab-d887-f21cefb03777",
        "colab": {
          "base_uri": "https://localhost:8080/",
          "height": 496
        }
      },
      "source": [
        "%%R\n",
        "ggplot(myTPM.stats, aes(x=SD, y=MED)) +\n",
        "  geom_hex(shape=16, size=2)"
      ],
      "execution_count": 0,
      "outputs": [
        {
          "output_type": "display_data",
          "data": {
            "image/png": "[encoded data removed]"
          },
          "metadata": {
            "tags": []
          }
        }
      ]
    },
    {
      "cell_type": "code",
      "metadata": {
        "id": "-W_pa_ypVTIk",
        "colab_type": "code",
        "colab": {}
      },
      "source": [
        ""
      ],
      "execution_count": 0,
      "outputs": []
    },
    {
      "cell_type": "code",
      "metadata": {
        "id": "FVmWhhXmVTL9",
        "colab_type": "code",
        "outputId": "f41fd5c9-3234-47ad-a04b-a4ca92985776",
        "colab": {
          "base_uri": "https://localhost:8080/",
          "height": 355
        }
      },
      "source": [
        "%%R\n",
        "# Make a DGElist from your counts, and plot ----\n",
        "myDGEList <- DGEList(m\n",
        "# take a look at the DGEList object \n",
        "myDGEList\n",
        "#DEGList objects are a good R data file to consider saving to you working directory\n",
        "save(myDGEList, file = \"myDGEList\")\n",
        "#Saved DGEList objects can be easily shared and loaded into an R environment\n",
        "load(file = \"myDGEList\")"
      ],
      "execution_count": 0,
      "outputs": [
        {
          "output_type": "error",
          "ename": "RParsingError",
          "evalue": "ignored",
          "traceback": [
            "\u001b[0;31m---------------------------------------------------------------------------\u001b[0m",
            "\u001b[0;31mRParsingError\u001b[0m                             Traceback (most recent call last)",
            "\u001b[0;32m<ipython-input-46-b23afea07788>\u001b[0m in \u001b[0;36m<module>\u001b[0;34m()\u001b[0m\n\u001b[0;32m----> 1\u001b[0;31m \u001b[0mget_ipython\u001b[0m\u001b[0;34m(\u001b[0m\u001b[0;34m)\u001b[0m\u001b[0;34m.\u001b[0m\u001b[0mrun_cell_magic\u001b[0m\u001b[0;34m(\u001b[0m\u001b[0;34m'R'\u001b[0m\u001b[0;34m,\u001b[0m \u001b[0;34m''\u001b[0m\u001b[0;34m,\u001b[0m \u001b[0;34m'# Make a DGElist from your counts, and plot ----\\nmyDGEList <- DGEList(m\\n# take a look at the DGEList object \\nmyDGEList\\n#DEGList objects are a good R data file to consider saving to you working directory\\nsave(myDGEList, file = \"myDGEList\")\\n#Saved DGEList objects can be easily shared and loaded into an R environment\\nload(file = \"myDGEList\")'\u001b[0m\u001b[0;34m)\u001b[0m\u001b[0;34m\u001b[0m\u001b[0;34m\u001b[0m\u001b[0m\n\u001b[0m",
            "\u001b[0;32m/usr/local/lib/python3.6/dist-packages/IPython/core/interactiveshell.py\u001b[0m in \u001b[0;36mrun_cell_magic\u001b[0;34m(self, magic_name, line, cell)\u001b[0m\n\u001b[1;32m   2115\u001b[0m             \u001b[0mmagic_arg_s\u001b[0m \u001b[0;34m=\u001b[0m \u001b[0mself\u001b[0m\u001b[0;34m.\u001b[0m\u001b[0mvar_expand\u001b[0m\u001b[0;34m(\u001b[0m\u001b[0mline\u001b[0m\u001b[0;34m,\u001b[0m \u001b[0mstack_depth\u001b[0m\u001b[0;34m)\u001b[0m\u001b[0;34m\u001b[0m\u001b[0;34m\u001b[0m\u001b[0m\n\u001b[1;32m   2116\u001b[0m             \u001b[0;32mwith\u001b[0m \u001b[0mself\u001b[0m\u001b[0;34m.\u001b[0m\u001b[0mbuiltin_trap\u001b[0m\u001b[0;34m:\u001b[0m\u001b[0;34m\u001b[0m\u001b[0;34m\u001b[0m\u001b[0m\n\u001b[0;32m-> 2117\u001b[0;31m                 \u001b[0mresult\u001b[0m \u001b[0;34m=\u001b[0m \u001b[0mfn\u001b[0m\u001b[0;34m(\u001b[0m\u001b[0mmagic_arg_s\u001b[0m\u001b[0;34m,\u001b[0m \u001b[0mcell\u001b[0m\u001b[0;34m)\u001b[0m\u001b[0;34m\u001b[0m\u001b[0;34m\u001b[0m\u001b[0m\n\u001b[0m\u001b[1;32m   2118\u001b[0m             \u001b[0;32mreturn\u001b[0m \u001b[0mresult\u001b[0m\u001b[0;34m\u001b[0m\u001b[0;34m\u001b[0m\u001b[0m\n\u001b[1;32m   2119\u001b[0m \u001b[0;34m\u001b[0m\u001b[0m\n",
            "\u001b[0;32m<decorator-gen-127>\u001b[0m in \u001b[0;36mR\u001b[0;34m(self, line, cell, local_ns)\u001b[0m\n",
            "\u001b[0;32m/usr/local/lib/python3.6/dist-packages/IPython/core/magic.py\u001b[0m in \u001b[0;36m<lambda>\u001b[0;34m(f, *a, **k)\u001b[0m\n\u001b[1;32m    186\u001b[0m     \u001b[0;31m# but it's overkill for just that one bit of state.\u001b[0m\u001b[0;34m\u001b[0m\u001b[0;34m\u001b[0m\u001b[0;34m\u001b[0m\u001b[0m\n\u001b[1;32m    187\u001b[0m     \u001b[0;32mdef\u001b[0m \u001b[0mmagic_deco\u001b[0m\u001b[0;34m(\u001b[0m\u001b[0marg\u001b[0m\u001b[0;34m)\u001b[0m\u001b[0;34m:\u001b[0m\u001b[0;34m\u001b[0m\u001b[0;34m\u001b[0m\u001b[0m\n\u001b[0;32m--> 188\u001b[0;31m         \u001b[0mcall\u001b[0m \u001b[0;34m=\u001b[0m \u001b[0;32mlambda\u001b[0m \u001b[0mf\u001b[0m\u001b[0;34m,\u001b[0m \u001b[0;34m*\u001b[0m\u001b[0ma\u001b[0m\u001b[0;34m,\u001b[0m \u001b[0;34m**\u001b[0m\u001b[0mk\u001b[0m\u001b[0;34m:\u001b[0m \u001b[0mf\u001b[0m\u001b[0;34m(\u001b[0m\u001b[0;34m*\u001b[0m\u001b[0ma\u001b[0m\u001b[0;34m,\u001b[0m \u001b[0;34m**\u001b[0m\u001b[0mk\u001b[0m\u001b[0;34m)\u001b[0m\u001b[0;34m\u001b[0m\u001b[0;34m\u001b[0m\u001b[0m\n\u001b[0m\u001b[1;32m    189\u001b[0m \u001b[0;34m\u001b[0m\u001b[0m\n\u001b[1;32m    190\u001b[0m         \u001b[0;32mif\u001b[0m \u001b[0mcallable\u001b[0m\u001b[0;34m(\u001b[0m\u001b[0marg\u001b[0m\u001b[0;34m)\u001b[0m\u001b[0;34m:\u001b[0m\u001b[0;34m\u001b[0m\u001b[0;34m\u001b[0m\u001b[0m\n",
            "\u001b[0;32m/usr/local/lib/python3.6/dist-packages/rpy2/ipython/rmagic.py\u001b[0m in \u001b[0;36mR\u001b[0;34m(self, line, cell, local_ns)\u001b[0m\n\u001b[1;32m    761\u001b[0m                     \u001b[0mreturn_output\u001b[0m \u001b[0;34m=\u001b[0m \u001b[0;32mFalse\u001b[0m\u001b[0;34m\u001b[0m\u001b[0;34m\u001b[0m\u001b[0m\n\u001b[1;32m    762\u001b[0m             \u001b[0;32melse\u001b[0m\u001b[0;34m:\u001b[0m\u001b[0;34m\u001b[0m\u001b[0;34m\u001b[0m\u001b[0m\n\u001b[0;32m--> 763\u001b[0;31m                 \u001b[0mtext_result\u001b[0m\u001b[0;34m,\u001b[0m \u001b[0mresult\u001b[0m\u001b[0;34m,\u001b[0m \u001b[0mvisible\u001b[0m \u001b[0;34m=\u001b[0m \u001b[0mself\u001b[0m\u001b[0;34m.\u001b[0m\u001b[0meval\u001b[0m\u001b[0;34m(\u001b[0m\u001b[0mcode\u001b[0m\u001b[0;34m)\u001b[0m\u001b[0;34m\u001b[0m\u001b[0;34m\u001b[0m\u001b[0m\n\u001b[0m\u001b[1;32m    764\u001b[0m                 \u001b[0mtext_output\u001b[0m \u001b[0;34m+=\u001b[0m \u001b[0mtext_result\u001b[0m\u001b[0;34m\u001b[0m\u001b[0;34m\u001b[0m\u001b[0m\n\u001b[1;32m    765\u001b[0m                 \u001b[0;32mif\u001b[0m \u001b[0mvisible\u001b[0m\u001b[0;34m:\u001b[0m\u001b[0;34m\u001b[0m\u001b[0;34m\u001b[0m\u001b[0m\n",
            "\u001b[0;32m/usr/local/lib/python3.6/dist-packages/rpy2/ipython/rmagic.py\u001b[0m in \u001b[0;36meval\u001b[0;34m(self, code)\u001b[0m\n\u001b[1;32m    266\u001b[0m             \u001b[0;32mtry\u001b[0m\u001b[0;34m:\u001b[0m\u001b[0;34m\u001b[0m\u001b[0;34m\u001b[0m\u001b[0m\n\u001b[1;32m    267\u001b[0m                 \u001b[0;31m# Need the newline in case the last line in code is a comment.\u001b[0m\u001b[0;34m\u001b[0m\u001b[0;34m\u001b[0m\u001b[0;34m\u001b[0m\u001b[0m\n\u001b[0;32m--> 268\u001b[0;31m                 \u001b[0mvalue\u001b[0m\u001b[0;34m,\u001b[0m \u001b[0mvisible\u001b[0m \u001b[0;34m=\u001b[0m \u001b[0mro\u001b[0m\u001b[0;34m.\u001b[0m\u001b[0mr\u001b[0m\u001b[0;34m(\u001b[0m\u001b[0;34m\"withVisible({%s\\n})\"\u001b[0m \u001b[0;34m%\u001b[0m \u001b[0mcode\u001b[0m\u001b[0;34m)\u001b[0m\u001b[0;34m\u001b[0m\u001b[0;34m\u001b[0m\u001b[0m\n\u001b[0m\u001b[1;32m    269\u001b[0m             \u001b[0;32mexcept\u001b[0m \u001b[0;34m(\u001b[0m\u001b[0mri\u001b[0m\u001b[0;34m.\u001b[0m\u001b[0membedded\u001b[0m\u001b[0;34m.\u001b[0m\u001b[0mRRuntimeError\u001b[0m\u001b[0;34m,\u001b[0m \u001b[0mValueError\u001b[0m\u001b[0;34m)\u001b[0m \u001b[0;32mas\u001b[0m \u001b[0mexception\u001b[0m\u001b[0;34m:\u001b[0m\u001b[0;34m\u001b[0m\u001b[0;34m\u001b[0m\u001b[0m\n\u001b[1;32m    270\u001b[0m                 \u001b[0;31m# Otherwise next return seems to have copy of error.\u001b[0m\u001b[0;34m\u001b[0m\u001b[0;34m\u001b[0m\u001b[0;34m\u001b[0m\u001b[0m\n",
            "\u001b[0;32m/usr/local/lib/python3.6/dist-packages/rpy2/robjects/__init__.py\u001b[0m in \u001b[0;36m__call__\u001b[0;34m(self, string)\u001b[0m\n\u001b[1;32m    413\u001b[0m \u001b[0;34m\u001b[0m\u001b[0m\n\u001b[1;32m    414\u001b[0m     \u001b[0;32mdef\u001b[0m \u001b[0m__call__\u001b[0m\u001b[0;34m(\u001b[0m\u001b[0mself\u001b[0m\u001b[0;34m,\u001b[0m \u001b[0mstring\u001b[0m\u001b[0;34m)\u001b[0m\u001b[0;34m:\u001b[0m\u001b[0;34m\u001b[0m\u001b[0;34m\u001b[0m\u001b[0m\n\u001b[0;32m--> 415\u001b[0;31m         \u001b[0mp\u001b[0m \u001b[0;34m=\u001b[0m \u001b[0mrinterface\u001b[0m\u001b[0;34m.\u001b[0m\u001b[0mparse\u001b[0m\u001b[0;34m(\u001b[0m\u001b[0mstring\u001b[0m\u001b[0;34m)\u001b[0m\u001b[0;34m\u001b[0m\u001b[0;34m\u001b[0m\u001b[0m\n\u001b[0m\u001b[1;32m    416\u001b[0m         \u001b[0mres\u001b[0m \u001b[0;34m=\u001b[0m \u001b[0mself\u001b[0m\u001b[0;34m.\u001b[0m\u001b[0meval\u001b[0m\u001b[0;34m(\u001b[0m\u001b[0mp\u001b[0m\u001b[0;34m)\u001b[0m\u001b[0;34m\u001b[0m\u001b[0;34m\u001b[0m\u001b[0m\n\u001b[1;32m    417\u001b[0m         \u001b[0;32mreturn\u001b[0m \u001b[0mconversion\u001b[0m\u001b[0;34m.\u001b[0m\u001b[0mrpy2py\u001b[0m\u001b[0;34m(\u001b[0m\u001b[0mres\u001b[0m\u001b[0;34m)\u001b[0m\u001b[0;34m\u001b[0m\u001b[0;34m\u001b[0m\u001b[0m\n",
            "\u001b[0;32m/usr/local/lib/python3.6/dist-packages/rpy2/rinterface_lib/conversion.py\u001b[0m in \u001b[0;36m_\u001b[0;34m(*args, **kwargs)\u001b[0m\n\u001b[1;32m     42\u001b[0m \u001b[0;32mdef\u001b[0m \u001b[0m_cdata_res_to_rinterface\u001b[0m\u001b[0;34m(\u001b[0m\u001b[0mfunction\u001b[0m\u001b[0;34m)\u001b[0m\u001b[0;34m:\u001b[0m\u001b[0;34m\u001b[0m\u001b[0;34m\u001b[0m\u001b[0m\n\u001b[1;32m     43\u001b[0m     \u001b[0;32mdef\u001b[0m \u001b[0m_\u001b[0m\u001b[0;34m(\u001b[0m\u001b[0;34m*\u001b[0m\u001b[0margs\u001b[0m\u001b[0;34m,\u001b[0m \u001b[0;34m**\u001b[0m\u001b[0mkwargs\u001b[0m\u001b[0;34m)\u001b[0m\u001b[0;34m:\u001b[0m\u001b[0;34m\u001b[0m\u001b[0;34m\u001b[0m\u001b[0m\n\u001b[0;32m---> 44\u001b[0;31m         \u001b[0mcdata\u001b[0m \u001b[0;34m=\u001b[0m \u001b[0mfunction\u001b[0m\u001b[0;34m(\u001b[0m\u001b[0;34m*\u001b[0m\u001b[0margs\u001b[0m\u001b[0;34m,\u001b[0m \u001b[0;34m**\u001b[0m\u001b[0mkwargs\u001b[0m\u001b[0;34m)\u001b[0m\u001b[0;34m\u001b[0m\u001b[0;34m\u001b[0m\u001b[0m\n\u001b[0m\u001b[1;32m     45\u001b[0m         \u001b[0;31m# TODO: test cdata is of the expected CType\u001b[0m\u001b[0;34m\u001b[0m\u001b[0;34m\u001b[0m\u001b[0;34m\u001b[0m\u001b[0m\n\u001b[1;32m     46\u001b[0m         \u001b[0;32mreturn\u001b[0m \u001b[0m_cdata_to_rinterface\u001b[0m\u001b[0;34m(\u001b[0m\u001b[0mcdata\u001b[0m\u001b[0;34m)\u001b[0m\u001b[0;34m\u001b[0m\u001b[0;34m\u001b[0m\u001b[0m\n",
            "\u001b[0;32m/usr/local/lib/python3.6/dist-packages/rpy2/rinterface.py\u001b[0m in \u001b[0;36mparse\u001b[0;34m(text, num)\u001b[0m\n\u001b[1;32m     47\u001b[0m     \u001b[0mrobj\u001b[0m \u001b[0;34m=\u001b[0m \u001b[0mStrSexpVector\u001b[0m\u001b[0;34m(\u001b[0m\u001b[0;34m[\u001b[0m\u001b[0mtext\u001b[0m\u001b[0;34m]\u001b[0m\u001b[0;34m)\u001b[0m\u001b[0;34m\u001b[0m\u001b[0;34m\u001b[0m\u001b[0m\n\u001b[1;32m     48\u001b[0m     \u001b[0;32mwith\u001b[0m \u001b[0mmemorymanagement\u001b[0m\u001b[0;34m.\u001b[0m\u001b[0mrmemory\u001b[0m\u001b[0;34m(\u001b[0m\u001b[0;34m)\u001b[0m \u001b[0;32mas\u001b[0m \u001b[0mrmemory\u001b[0m\u001b[0;34m:\u001b[0m\u001b[0;34m\u001b[0m\u001b[0;34m\u001b[0m\u001b[0m\n\u001b[0;32m---> 49\u001b[0;31m         \u001b[0mres\u001b[0m \u001b[0;34m=\u001b[0m \u001b[0m_rinterface\u001b[0m\u001b[0;34m.\u001b[0m\u001b[0m_parse\u001b[0m\u001b[0;34m(\u001b[0m\u001b[0mrobj\u001b[0m\u001b[0;34m.\u001b[0m\u001b[0m__sexp__\u001b[0m\u001b[0;34m.\u001b[0m\u001b[0m_cdata\u001b[0m\u001b[0;34m,\u001b[0m \u001b[0mnum\u001b[0m\u001b[0;34m,\u001b[0m \u001b[0mrmemory\u001b[0m\u001b[0;34m)\u001b[0m\u001b[0;34m\u001b[0m\u001b[0;34m\u001b[0m\u001b[0m\n\u001b[0m\u001b[1;32m     50\u001b[0m     \u001b[0;32mreturn\u001b[0m \u001b[0mres\u001b[0m\u001b[0;34m\u001b[0m\u001b[0;34m\u001b[0m\u001b[0m\n\u001b[1;32m     51\u001b[0m \u001b[0;34m\u001b[0m\u001b[0m\n",
            "\u001b[0;32m/usr/local/lib/python3.6/dist-packages/rpy2/rinterface_lib/_rinterface_capi.py\u001b[0m in \u001b[0;36m_parse\u001b[0;34m(cdata, num, rmemory)\u001b[0m\n\u001b[1;32m    598\u001b[0m     \u001b[0;32mif\u001b[0m \u001b[0mstatus\u001b[0m\u001b[0;34m[\u001b[0m\u001b[0;36m0\u001b[0m\u001b[0;34m]\u001b[0m \u001b[0;34m!=\u001b[0m \u001b[0mopenrlib\u001b[0m\u001b[0;34m.\u001b[0m\u001b[0mrlib\u001b[0m\u001b[0;34m.\u001b[0m\u001b[0mPARSE_OK\u001b[0m\u001b[0;34m:\u001b[0m\u001b[0;34m\u001b[0m\u001b[0;34m\u001b[0m\u001b[0m\n\u001b[1;32m    599\u001b[0m         raise RParsingError('Parsing status not OK',\n\u001b[0;32m--> 600\u001b[0;31m                             status=PARSING_STATUS(status[0]))\n\u001b[0m\u001b[1;32m    601\u001b[0m     \u001b[0;32mreturn\u001b[0m \u001b[0mres\u001b[0m\u001b[0;34m\u001b[0m\u001b[0;34m\u001b[0m\u001b[0m\n",
            "\u001b[0;31mRParsingError\u001b[0m: Parsing status not OK - PARSING_STATUS.PARSE_ERROR"
          ]
        }
      ]
    },
    {
      "cell_type": "code",
      "metadata": {
        "id": "nVO2YcKRbaBo",
        "colab_type": "code",
        "outputId": "25420558-70c3-44e0-ffed-482b122e4678",
        "colab": {
          "base_uri": "https://localhost:8080/",
          "height": 125
        }
      },
      "source": [
        "from google.colab import drive\n",
        "drive.mount('/content/drive')"
      ],
      "execution_count": 0,
      "outputs": [
        {
          "output_type": "stream",
          "text": [
            "Go to this URL in a browser: https://accounts.google.com/o/oauth2/auth?client_id=947318989803-6bn6qk8qdgf4n4g3pfee6491hc0brc4i.apps.googleusercontent.com&redirect_uri=urn%3aietf%3awg%3aoauth%3a2.0%3aoob&response_type=code&scope=email%20https%3a%2f%2fwww.googleapis.com%2fauth%2fdocs.test%20https%3a%2f%2fwww.googleapis.com%2fauth%2fdrive%20https%3a%2f%2fwww.googleapis.com%2fauth%2fdrive.photos.readonly%20https%3a%2f%2fwww.googleapis.com%2fauth%2fpeopleapi.readonly\n",
            "\n",
            "Enter your authorization code:\n",
            "··········\n",
            "Mounted at /content/drive\n"
          ],
          "name": "stdout"
        }
      ]
    },
    {
      "cell_type": "code",
      "metadata": {
        "id": "CSJqQ6-lVT4s",
        "colab_type": "code",
        "outputId": "de2aa651-1e9e-4e0b-8340-334dbc4d145f",
        "colab": {
          "base_uri": "https://localhost:8080/",
          "height": 461
        }
      },
      "source": [
        "%%R\n",
        "# use the 'cpm' function from EdgeR to get counts per million\n",
        "cpm <- cpm(myDGEList) \n",
        "colSums(cpm)\n",
        "log2.cpm <- cpm(myDGEList, log=TRUE)"
      ],
      "execution_count": 0,
      "outputs": [
        {
          "output_type": "stream",
          "text": [
            "R[write to console]: Error in cpm(myDGEList) : could not find function \"cpm\"\n",
            "\n",
            "R[write to console]: In addition: \n",
            "R[write to console]: Warning messages:\n",
            "\n",
            "R[write to console]: 1: Ignoring unknown parameters: shape \n",
            "\n",
            "R[write to console]: 2: Computation failed in `stat_binhex()`:\n",
            "  Package `hexbin` required for `stat_binhex`.\n",
            "  Please install and try again. \n",
            "\n",
            "R[write to console]: 3: Ignoring unknown parameters: shape \n",
            "\n",
            "R[write to console]: 4: Computation failed in `stat_binhex()`:\n",
            "  Package `hexbin` required for `stat_binhex`.\n",
            "  Please install and try again. \n",
            "\n",
            "R[write to console]: 5: Ignoring unknown parameters: shape \n",
            "\n",
            "R[write to console]: 6: Computation failed in `stat_binhex()`:\n",
            "  Package `hexbin` required for `stat_binhex`.\n",
            "  Please install and try again. \n",
            "\n"
          ],
          "name": "stderr"
        },
        {
          "output_type": "stream",
          "text": [
            "\n",
            "Error in cpm(myDGEList) : could not find function \"cpm\"\n"
          ],
          "name": "stdout"
        }
      ]
    },
    {
      "cell_type": "code",
      "metadata": {
        "id": "i7ghlDDxVT8y",
        "colab_type": "code",
        "colab": {}
      },
      "source": [
        "# 'coerce' your data matrix to a dataframe so that you can use tidyverse tools on it\n",
        "log2.cpm.df <- as_tibble(log2.cpm, rownames = \"geneID\")\n",
        "log2.cpm.df\n",
        "# add your sample names to this dataframe (we lost these when we read our data in with tximport)\n",
        "colnames(log2.cpm.df) <- c(\"geneID\", sampleLabels)\n",
        "# use the reshape2 package to 'melt' your dataframe (from wide to tall)\n",
        "log2.cpm.df.melt <- melt(log2.cpm.df)\n",
        "\n",
        "\n",
        "ggplot(log2.cpm.df.melt, aes(x=variable, y=value, fill=variable)) +\n",
        "  geom_violin(trim = FALSE, show.legend = FALSE) +\n",
        "  stat_summary(fun.y = \"median\", \n",
        "               geom = \"point\", \n",
        "               shape = 124, \n",
        "               size = 6, \n",
        "               color = \"black\", \n",
        "               show.legend = FALSE) +\n",
        "  labs(y=\"log2 expression\", x = \"sample\",\n",
        "       title=\"Log2 Counts per Million (CPM)\",\n",
        "       subtitle=\"unfiltered, non-normalized\",\n",
        "       caption=paste0(\"produced on \", Sys.time())) \n"
      ],
      "execution_count": 0,
      "outputs": []
    },
    {
      "cell_type": "markdown",
      "metadata": {
        "id": "0kI9sYHQVg52",
        "colab_type": "text"
      },
      "source": [
        "## Filter your data"
      ]
    },
    {
      "cell_type": "code",
      "metadata": {
        "id": "JaH_aafzVT_u",
        "colab_type": "code",
        "colab": {}
      },
      "source": [
        "table(rowSums(myDGEList$counts==0)==9)"
      ],
      "execution_count": 0,
      "outputs": []
    },
    {
      "cell_type": "code",
      "metadata": {
        "id": "oUG0RGDUTaPU",
        "colab_type": "code",
        "colab": {}
      },
      "source": [
        "\n",
        "\n",
        "# Filter your data ----\n",
        "#first, take a look at how many genes or transcripts have no read counts at all\n",
        "\n",
        "# breaking down the line above is a little tricky.  Let's try:\n",
        "# 1st - 'myDGEList$counts==0' returns a new 'logical matrix' where each observation (gene) is evaluated (TRUE/FALSE) for each variable (sample) as to whether it has zero counts\n",
        "# 2nd - passing this logical matrix to 'rowsums' allows you to sum the total number of times an observation was 'TRUE' across all samples\n",
        "# 3rd - adding the '==9' is a simple way of asking how many of the rowsums equaled 9. In other words, how many genes had 0 counts (TRUE) for all samples\n",
        "# 4th - passing all this to the 'table' function just provides a handy way to summarize the large logical produced in the previous step\n",
        "\n",
        "# now set some cut-off to get rid of genes/transcripts with low counts\n",
        "# again using rowSums to tally up the 'TRUE' results of a simple evaluation\n",
        "# how many genes had more than 1CPM (TRUE) in at least 3 samples\n",
        "keepers <- rowSums(cpm>1)>=3\n",
        "# now use base R's simple subsetting method to filter your DGEList based on the logical produced above\n",
        "myDGEList.filtered <- myDGEList[keepers,]\n",
        "dim(myDGEList.filtered)\n",
        "\n",
        "log2.cpm.filtered <- cpm(myDGEList.filtered, log=TRUE)\n",
        "log2.cpm.filtered.df <- as_tibble(log2.cpm.filtered, rownames = \"geneID\")\n",
        "colnames(log2.cpm.filtered.df) <- c(\"geneID\", sampleLabels)\n",
        "log2.cpm.filtered.df.melt <- melt(log2.cpm.filtered.df)\n",
        "\n",
        "ggplot(log2.cpm.filtered.df.melt, aes(x=variable, y=value, fill=variable)) +\n",
        "  geom_violin(trim = FALSE, show.legend = FALSE) +\n",
        "  stat_summary(fun.y = \"median\", \n",
        "               geom = \"point\", \n",
        "               shape = 124, \n",
        "               size = 6, \n",
        "               color = \"black\", \n",
        "               show.legend = FALSE) +\n",
        "  labs(y=\"log2 expression\", x = \"sample\",\n",
        "       title=\"Log2 Counts per Million (CPM)\",\n",
        "       subtitle=\"filtered, non-normalized\",\n",
        "       caption=paste0(\"produced on \", Sys.time()))\n",
        "\n",
        "# Normalize your data ----\n",
        "myDGEList.filtered.norm <- calcNormFactors(myDGEList.filtered, method = \"TMM\")\n",
        "# take a look at this new DGEList object...how has it changed?\n",
        "\n",
        "# use the 'cpm' function from EdgeR to get counts per million from your normalized data\n",
        "log2.cpm.filtered.norm <- cpm(myDGEList.filtered.norm, log=TRUE)\n",
        "log2.cpm.filtered.norm.df <- as_tibble(log2.cpm.filtered.norm, rownames = \"geneID\")\n",
        "colnames(log2.cpm.filtered.norm.df) <- c(\"geneID\", sampleLabels)\n",
        "log2.cpm.filtered.norm.df.melt <- melt(log2.cpm.filtered.norm.df)\n",
        "\n",
        "ggplot(log2.cpm.filtered.norm.df.melt, aes(x=variable, y=value, fill=variable)) +\n",
        "  geom_violin(trim = FALSE, show.legend = FALSE) +\n",
        "  stat_summary(fun.y = \"median\", \n",
        "               geom = \"point\", \n",
        "               shape = 124, \n",
        "               size = 6, \n",
        "               color = \"black\", \n",
        "               show.legend = FALSE) +\n",
        "  labs(y=\"log2 expression\", x = \"sample\",\n",
        "       title=\"Log2 Counts per Million (CPM)\",\n",
        "       subtitle=\"filtered, TMM normalized\",\n",
        "       caption=paste0(\"produced on \", Sys.time()))\n",
        "\n",
        "# what if we wanted to put all three violin plots together?\n",
        "# go back and assign each plot to a variable (rather than printing to the plots viewer)\n",
        "# we'll use the 'plot_grid' function from the cowplot package to put these together in a figure\n",
        "plot_grid(p1, p2, p3, labels = c('A', 'B', 'C'), label_size = 12)\n",
        "\n",
        "# the essentials ----\n",
        "\n",
        "\n",
        "sampleLabels <- targets$sample\n",
        "myDGEList <- DGEList(Txi_gene$counts)\n",
        "log2.cpm <- cpm(myDGEList, log=TRUE)\n",
        "\n",
        "log2.cpm.df <- as_tibble(log2.cpm, rownames = \"geneID\")\n",
        "colnames(log2.cpm.df) <- c(\"geneID\", sampleLabels)\n",
        "log2.cpm.df.melt <- melt(log2.cpm.df)\n",
        "\n",
        "p1 <- ggplot(log2.cpm.df.melt, aes(x=variable, y=value, fill=variable)) +\n",
        "  geom_violin(trim = FALSE, show.legend = FALSE) +\n",
        "  stat_summary(fun.y = \"median\", \n",
        "               geom = \"point\", \n",
        "               shape = 124, \n",
        "               size = 6, \n",
        "               color = \"black\", \n",
        "               show.legend = FALSE) +\n",
        "  labs(y=\"log2 expression\", x = \"sample\",\n",
        "       title=\"Log2 Counts per Million (CPM)\",\n",
        "       subtitle=\"unfiltered, non-normalized\",\n",
        "       caption=paste0(\"produced on \", Sys.time()))\n",
        "\n",
        "cpm <- cpm(myDGEList)\n",
        "keepers <- rowSums(cpm>1)>=3 #user defined\n",
        "myDGEList.filtered <- myDGEList[keepers,]\n",
        "\n",
        "log2.cpm.filtered <- cpm(myDGEList.filtered, log=TRUE)\n",
        "log2.cpm.filtered.df <- as_tibble(log2.cpm.filtered, rownames = \"geneID\") \n",
        "colnames(log2.cpm.filtered.df) <- c(\"geneID\", sampleLabels)\n",
        "log2.cpm.filtered.df.melt <- melt(log2.cpm.filtered.df)\n",
        "\n",
        "p2 <- ggplot(log2.cpm.filtered.df.melt, aes(x=variable, y=value, fill=variable)) +\n",
        "  geom_violin(trim = FALSE, show.legend = FALSE) +\n",
        "  stat_summary(fun.y = \"median\", \n",
        "               geom = \"point\", \n",
        "               shape = 124, \n",
        "               size = 6, \n",
        "               color = \"black\", \n",
        "               show.legend = FALSE) +\n",
        "  labs(y=\"log2 expression\", x = \"sample\",\n",
        "       title=\"Log2 Counts per Million (CPM)\",\n",
        "       subtitle=\"filtered, non-normalized\",\n",
        "       caption=paste0(\"produced on \", Sys.time()))\n",
        "\n",
        "myDGEList.filtered.norm <- calcNormFactors(myDGEList.filtered, method = \"TMM\")\n",
        "log2.cpm.filtered.norm <- cpm(myDGEList.filtered.norm, log=TRUE)\n",
        "log2.cpm.filtered.norm.df <- as_tibble(log2.cpm.filtered.norm, rownames = \"geneID\")\n",
        "colnames(log2.cpm.filtered.norm.df) <- c(\"geneID\", sampleLabels)\n",
        "log2.cpm.filtered.norm.df.melt <- melt(log2.cpm.filtered.norm.df)\n",
        "\n",
        "p3 <- ggplot(log2.cpm.filtered.norm.df.melt, aes(x=variable, y=value, fill=variable)) +\n",
        "  geom_violin(trim = FALSE, show.legend = FALSE) +\n",
        "  stat_summary(fun.y = \"median\", \n",
        "               geom = \"point\", \n",
        "               shape = 124, \n",
        "               size = 6, \n",
        "               color = \"black\", \n",
        "               show.legend = FALSE) +\n",
        "  labs(y=\"log2 expression\", x = \"sample\",\n",
        "       title=\"Log2 Counts per Million (CPM)\",\n",
        "       subtitle=\"filtered, TMM normalized\",\n",
        "       caption=paste0(\"produced on \", Sys.time()))\n",
        "\n",
        "plot_grid(p1, p2, p3, labels = c('A', 'B', 'C'), label_size = 12)"
      ],
      "execution_count": 0,
      "outputs": []
    }
  ]
}