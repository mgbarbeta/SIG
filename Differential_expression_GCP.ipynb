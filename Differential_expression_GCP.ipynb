{
  "nbformat": 4,
  "nbformat_minor": 0,
  "metadata": {
    "kernelspec": {
      "display_name": "Python 3",
      "language": "python",
      "name": "python3"
    },
    "language_info": {
      "codemirror_mode": {
        "name": "ipython",
        "version": 3
      },
      "file_extension": ".py",
      "mimetype": "text/x-python",
      "name": "python",
      "nbconvert_exporter": "python",
      "pygments_lexer": "ipython3",
      "version": "3.7.6"
    },
    "toc": {
      "base_numbering": 1,
      "nav_menu": {},
      "number_sections": false,
      "sideBar": true,
      "skip_h1_title": false,
      "title_cell": "Table of Contents",
      "title_sidebar": "Contents",
      "toc_cell": false,
      "toc_position": {},
      "toc_section_display": true,
      "toc_window_display": false
    },
    "colab": {
      "name": "Copy of  Differential_expression_GCP.ipynb",
      "provenance": [],
      "collapsed_sections": [
        "p-0Lpdp1et-D",
        "2KqxIRMnWKjQ",
        "H2U39QuVW3U0",
        "w70weX--bZAG",
        "VylWc2EvbZAd"
      ],
      "toc_visible": true,
      "machine_shape": "hm",
      "include_colab_link": true
    }
  },
  "cells": [
    {
      "cell_type": "markdown",
      "metadata": {
        "id": "view-in-github",
        "colab_type": "text"
      },
      "source": [
        "<a href=\"https://colab.research.google.com/github/afvallejo/SIG/blob/master/Copy_of_Differential_expression_GCP.ipynb\" target=\"_parent\"><img src=\"https://colab.research.google.com/assets/colab-badge.svg\" alt=\"Open In Colab\"/></a>"
      ]
    },
    {
      "cell_type": "markdown",
      "metadata": {
        "id": "5IzHm4alzBw7",
        "colab_type": "text"
      },
      "source": [
        "# Transfering annotattion to filtered data"
      ]
    },
    {
      "cell_type": "code",
      "metadata": {
        "id": "Ni_sKsrFy7Ri",
        "colab_type": "code",
        "colab": {}
      },
      "source": [
        "adata1=sc.read(filteredsample)"
      ],
      "execution_count": 0,
      "outputs": []
    },
    {
      "cell_type": "code",
      "metadata": {
        "id": "9qmuVz27y7Uz",
        "colab_type": "code",
        "colab": {}
      },
      "source": [
        "adata1.obs[\"annotated\"]=adata.obs[\"predicted1\"]"
      ],
      "execution_count": 0,
      "outputs": []
    },
    {
      "cell_type": "code",
      "metadata": {
        "id": "Hc8dB5jgy7Yw",
        "colab_type": "code",
        "colab": {}
      },
      "source": [
        "filteredannotated=samplename+\"_filtered_annotated.h5ad\"\n",
        "adata1.write(filteredannotated)"
      ],
      "execution_count": 0,
      "outputs": []
    },
    {
      "cell_type": "markdown",
      "metadata": {
        "id": "AHm0211-p7-F",
        "colab_type": "text"
      },
      "source": [
        "# Install packages "
      ]
    },
    {
      "cell_type": "code",
      "metadata": {
        "id": "MIaTy4CLp_Li",
        "colab_type": "code",
        "colab": {}
      },
      "source": [
        "%%time\n",
        "!pip install MulticoreTSNE scanpy[louvain] MulticoreTSNE anndata2ri scvelo leidenalg bbknn rpy2==3.3.2"
      ],
      "execution_count": 0,
      "outputs": []
    },
    {
      "cell_type": "code",
      "metadata": {
        "id": "YlhVzjox33va",
        "colab_type": "code",
        "colab": {}
      },
      "source": [
        "!pip install diffxpy"
      ],
      "execution_count": 0,
      "outputs": []
    },
    {
      "cell_type": "code",
      "metadata": {
        "id": "DcIiwx5YqNma",
        "colab_type": "code",
        "colab": {}
      },
      "source": [
        "%load_ext rpy2.ipython"
      ],
      "execution_count": 0,
      "outputs": []
    },
    {
      "cell_type": "markdown",
      "metadata": {
        "id": "4b5ab6ur3boU",
        "colab_type": "text"
      },
      "source": [
        "install.packages(\"BiocManager\")\n",
        "\n",
        "BiocManager::install()\n",
        "\n",
        "a\n",
        "\n",
        "q()\n",
        "\n",
        "n\n",
        "\n"
      ]
    },
    {
      "cell_type": "code",
      "metadata": {
        "id": "5Imi7y3SLgL3",
        "colab_type": "code",
        "colab": {},
        "cellView": "both"
      },
      "source": [
        "#@title\n",
        "!R"
      ],
      "execution_count": 0,
      "outputs": []
    },
    {
      "cell_type": "code",
      "metadata": {
        "id": "hHwWHY_LqSin",
        "colab_type": "code",
        "colab": {}
      },
      "source": [
        "%%time\n",
        "%%R\n",
        "options(Ncpus = 4)\n",
        "options(repos=structure(c(CRAN=\"http://cloud.r-project.org/\")))\n",
        "if (!requireNamespace(\"BiocManager\", quietly = TRUE))\n",
        "    install.packages(\"BiocManager\")\n",
        "check.packages <- function(pkg){\n",
        "    new.pkg <- pkg[!(pkg %in% installed.packages()[, \"Package\"])]\n",
        "    if (length(new.pkg)) \n",
        "        BiocManager::install(new.pkg, dependencies = TRUE)\n",
        "    sapply(pkg, require, character.only = TRUE)\n",
        "}\n",
        "\n",
        "# Usage\n",
        "packages<-c(\"MAST\", \"scater\")\n",
        "check.packages(packages)"
      ],
      "execution_count": 0,
      "outputs": []
    },
    {
      "cell_type": "markdown",
      "metadata": {
        "id": "5BUclAh13aW9",
        "colab_type": "text"
      },
      "source": [
        ""
      ]
    },
    {
      "cell_type": "code",
      "metadata": {
        "id": "1zKLDgLxy5pM",
        "colab_type": "code",
        "colab": {}
      },
      "source": [
        ""
      ],
      "execution_count": 0,
      "outputs": []
    },
    {
      "cell_type": "markdown",
      "metadata": {
        "id": "9nnXb_06bY_Y",
        "colab_type": "text"
      },
      "source": [
        "# set up WD"
      ]
    },
    {
      "cell_type": "markdown",
      "metadata": {
        "id": "kpu9HL_ObY_c",
        "colab_type": "text"
      },
      "source": [
        " # load Libraries"
      ]
    },
    {
      "cell_type": "code",
      "metadata": {
        "id": "ONBxK-n3bY_c",
        "colab_type": "code",
        "colab": {}
      },
      "source": [
        "import scanpy as sc\n",
        "\n",
        "# numpy et al.\n",
        "import numpy as np\n",
        "import scipy as sp\n",
        "import pandas as pd\n",
        "import gc\n",
        "import bbknn\n",
        "\n",
        "# R integration\n",
        "from rpy2.robjects.packages import importr\n",
        "\n",
        "from rpy2.robjects.vectors import StrVector, FloatVector, ListVector\n",
        "import rpy2.robjects as ro\n",
        "import anndata2ri\n",
        "\n",
        "import numpy as np\n",
        "import matplotlib.pyplot as pl\n",
        "import pandas as pd\n",
        "import seaborn as sb\n",
        "import re\n",
        "import scipy as sp\n",
        "import datetime, time\n",
        "import diffxpy.api as de\n",
        "sc.settings.verbosity = 3               # verbosity: errors (0), warnings (1), info (2), hints (3)\n",
        "sc.logging.print_versions()\n",
        "sc.logging.print_version_and_date()\n",
        "\n",
        "\n",
        "import rpy2.rinterface_lib.callbacks\n",
        "import logging\n",
        "from rpy2.robjects import pandas2ri, numpy2ri, r\n",
        "\n",
        "\n",
        "\n",
        "# Automatically convert rpy2 outputs to pandas dataframes\n",
        "pandas2ri.activate()\n",
        "anndata2ri.activate()\n",
        "%load_ext rpy2.ipython\n"
      ],
      "execution_count": 0,
      "outputs": []
    },
    {
      "cell_type": "markdown",
      "metadata": {
        "id": "NoplY31zbY_g",
        "colab_type": "text"
      },
      "source": [
        "# Download the data"
      ]
    },
    {
      "cell_type": "code",
      "metadata": {
        "id": "i8kkYDcWe71z",
        "colab_type": "code",
        "colab": {}
      },
      "source": [
        "!gdown --id 13Wd7kxAn7vHcNsbEZE5H--3Du9dPkVza"
      ],
      "execution_count": 0,
      "outputs": []
    },
    {
      "cell_type": "markdown",
      "metadata": {
        "id": "Ld8Y4kBgp6_r",
        "colab_type": "text"
      },
      "source": [
        ""
      ]
    },
    {
      "cell_type": "code",
      "metadata": {
        "id": "RqVMZzGVbY_g",
        "colab_type": "code",
        "colab": {}
      },
      "source": [
        "adata=sc.read('PBMC_IFN_singler.h5ad')\n",
        "adata"
      ],
      "execution_count": 0,
      "outputs": []
    },
    {
      "cell_type": "code",
      "metadata": {
        "id": "W_ni0wcVbY_j",
        "colab_type": "code",
        "colab": {}
      },
      "source": [
        "sb.set_context('paper')\n",
        "pl.rcParams['figure.figsize']=(10,10)\n",
        "\n",
        "sc.pl.umap(adata,color=['cluster', 'Donor','stim' ],legend_loc='on data')"
      ],
      "execution_count": 0,
      "outputs": []
    },
    {
      "cell_type": "code",
      "metadata": {
        "id": "kw1HLlOLbY_l",
        "colab_type": "code",
        "colab": {}
      },
      "source": [
        "marker_genes = ['CD79A', 'MS4A1', 'CD8A', 'CD8B', 'GNLY', 'NKG7','IL7R','LYZ', 'CD14','FCGR3A', 'MS4A7', 'FCER1A', 'CST3',\n",
        "                'PPBP','LGALS3', 'S100A8', 'KLRB1', 'HLA-DRA']"
      ],
      "execution_count": 0,
      "outputs": []
    },
    {
      "cell_type": "code",
      "metadata": {
        "id": "RPSK5Cx_bY_v",
        "colab_type": "code",
        "colab": {}
      },
      "source": [
        "sb.set_context('talk')\n",
        "pl.rcParams['figure.figsize']=(4,4) #rescale figures\n",
        "sc.pl.umap(adata=adata, color=marker_genes,color_map='Reds', use_raw=True)"
      ],
      "execution_count": 0,
      "outputs": []
    },
    {
      "cell_type": "markdown",
      "metadata": {
        "id": "9zA-9UC3bZAG",
        "colab_type": "text"
      },
      "source": [
        "# Differential expression analysis"
      ]
    },
    {
      "cell_type": "markdown",
      "metadata": {
        "id": "p-0Lpdp1et-D",
        "colab_type": "text"
      },
      "source": [
        "## Pseudotime on Monocytes"
      ]
    },
    {
      "cell_type": "code",
      "metadata": {
        "id": "iskBDkWySLyJ",
        "colab_type": "code",
        "colab": {}
      },
      "source": [
        "subset=adata[adata.obs['leiden'].isin(['0','9'])]\n",
        "adata_mono=subset[subset.obs['stim'].isin(['CTRL'])]\n",
        "adata_mono"
      ],
      "execution_count": 0,
      "outputs": []
    },
    {
      "cell_type": "code",
      "metadata": {
        "id": "Q8aQxgx4Ybu5",
        "colab_type": "code",
        "colab": {}
      },
      "source": [
        "\n",
        "sc.pl.umap(adata_mono,color='leiden')"
      ],
      "execution_count": 0,
      "outputs": []
    },
    {
      "cell_type": "code",
      "metadata": {
        "id": "aeHQ-zTXSMFW",
        "colab_type": "code",
        "colab": {}
      },
      "source": [
        "sb.set_context('talk')\n",
        "pl.rcParams['figure.figsize']=(5,5)\n",
        "\n",
        "sc.tl.pca(adata_mono, svd_solver='arpack')\n",
        "sc.tl.diffmap(adata_mono)\n",
        "#sc.pp.neighbors(adata_mono, n_neighbors=10, random_state=42,use_rep='X_diffmap')\n",
        "sc.pp.neighbors(adata_mono)"
      ],
      "execution_count": 0,
      "outputs": []
    },
    {
      "cell_type": "code",
      "metadata": {
        "id": "1hlXESOLdsvu",
        "colab_type": "code",
        "colab": {}
      },
      "source": [
        "sc.tl.leiden(adata,random_state=42, resolution = 0.5)\n",
        "sc.pl.umap(adata_mono,color='leiden')"
      ],
      "execution_count": 0,
      "outputs": []
    },
    {
      "cell_type": "code",
      "metadata": {
        "id": "486SaZI7TmEb",
        "colab_type": "code",
        "colab": {}
      },
      "source": [
        "\n",
        "umap_0 = [term[0] for term in adata_mono.obsm['X_umap']]\n",
        "umap_1 = [term[1] for term in adata_mono.obsm['X_umap']]"
      ],
      "execution_count": 0,
      "outputs": []
    },
    {
      "cell_type": "code",
      "metadata": {
        "id": "GvJlxticTohK",
        "colab_type": "code",
        "colab": {}
      },
      "source": [
        "adata_mono.uns['iroot'] = np.flatnonzero(umap_1== min(umap_1))[0]\n",
        "sc.tl.dpt(adata = adata_mono)"
      ],
      "execution_count": 0,
      "outputs": []
    },
    {
      "cell_type": "code",
      "metadata": {
        "id": "LQWZ4hImTqmB",
        "colab_type": "code",
        "colab": {}
      },
      "source": [
        "pl.rcParams['figure.figsize']=(7,7)\n",
        "sc.pl.umap(adata_mono, color=['dpt_pseudotime', 'leiden'])"
      ],
      "execution_count": 0,
      "outputs": []
    },
    {
      "cell_type": "code",
      "metadata": {
        "id": "-fNYI-66V2Qa",
        "colab_type": "code",
        "colab": {}
      },
      "source": [
        "pl.rcParams['figure.figsize']=(7,7)\n",
        "sc.pl.diffmap(adata_mono, color=['dpt_pseudotime', 'leiden'], components=['1,2'])\n",
        "sc.pl.diffmap(adata_mono, color=['dpt_pseudotime', 'leiden'], components=['1,3'])"
      ],
      "execution_count": 0,
      "outputs": []
    },
    {
      "cell_type": "markdown",
      "metadata": {
        "id": "2KqxIRMnWKjQ",
        "colab_type": "text"
      },
      "source": [
        "### Run a differential test on the two groups of monocytes in order to determine characteristic genes."
      ]
    },
    {
      "cell_type": "code",
      "metadata": {
        "id": "oxU6PgANWH7z",
        "colab_type": "code",
        "colab": {}
      },
      "source": [
        "sc.tl.rank_genes_groups(adata_mono, groupby='leiden', \n",
        "                        groups= ['9'], reference='0', rankby_abs=True)"
      ],
      "execution_count": 0,
      "outputs": []
    },
    {
      "cell_type": "code",
      "metadata": {
        "id": "m5PA9N7oWXuI",
        "colab_type": "code",
        "colab": {}
      },
      "source": [
        "pl.rcParams['figure.figsize']=(10,5)\n",
        "sc.pl.rank_genes_groups(adata_mono, size=10, n_genes=30)"
      ],
      "execution_count": 0,
      "outputs": []
    },
    {
      "cell_type": "code",
      "metadata": {
        "id": "ni-GVpPuWbsC",
        "colab_type": "code",
        "colab": {}
      },
      "source": [
        "pl.rcParams['figure.figsize']= (15,5)\n",
        "sc.pl.rank_genes_groups_violin(adata_mono)"
      ],
      "execution_count": 0,
      "outputs": []
    },
    {
      "cell_type": "code",
      "metadata": {
        "id": "KEMntjr8Wtoq",
        "colab_type": "code",
        "colab": {}
      },
      "source": [
        "mono_genes = [idx[1][0] for idx in enumerate(adata_mono.uns['rank_genes_groups']['names'])]"
      ],
      "execution_count": 0,
      "outputs": []
    },
    {
      "cell_type": "markdown",
      "metadata": {
        "id": "H2U39QuVW3U0",
        "colab_type": "text"
      },
      "source": [
        "## Partition-based graph abstraction (PAGA)"
      ]
    },
    {
      "cell_type": "code",
      "metadata": {
        "id": "5EamUFH6XDiP",
        "colab_type": "code",
        "colab": {}
      },
      "source": [
        "pl.rcParams['figure.figsize']=(5,5)\n",
        "sc.tl.paga(adata_mono, groups='leiden')\n",
        "sc.pl.paga_compare(adata_mono)"
      ],
      "execution_count": 0,
      "outputs": []
    },
    {
      "cell_type": "code",
      "metadata": {
        "id": "_U5YZSZwW2lX",
        "colab_type": "code",
        "colab": {}
      },
      "source": [
        "pl.rcParams['figure.figsize']=(20,10)\n",
        "sc.pl.paga_path(adata_mono, nodes=['9', '0'], \n",
        "                keys=mono_genes[:25],n_avg=10, use_raw=False)"
      ],
      "execution_count": 0,
      "outputs": []
    },
    {
      "cell_type": "markdown",
      "metadata": {
        "id": "w70weX--bZAG",
        "colab_type": "text"
      },
      "source": [
        "## t-test"
      ]
    },
    {
      "cell_type": "code",
      "metadata": {
        "id": "t84IhrU0bZAH",
        "colab_type": "code",
        "colab": {}
      },
      "source": [
        "subset=adata[adata.obs['cluster'].isin(['CD14 Mono'])]\n",
        "subset"
      ],
      "execution_count": 0,
      "outputs": []
    },
    {
      "cell_type": "code",
      "metadata": {
        "id": "jiCSQDk7bZAK",
        "colab_type": "code",
        "colab": {}
      },
      "source": [
        "sc.pp.neighbors(subset, n_pcs=30,n_neighbors=30,random_state=42)\n",
        "\n",
        "sc.tl.leiden(subset, resolution = 0.5)\n",
        "sc.tl.umap(subset)\n",
        "\n",
        "sc.pl.umap(subset, color = ['cluster', 'Donor','stim'])"
      ],
      "execution_count": 0,
      "outputs": []
    },
    {
      "cell_type": "code",
      "metadata": {
        "id": "pPxDWV-pbZAM",
        "colab_type": "code",
        "colab": {}
      },
      "source": [
        "sc.tl.rank_genes_groups(subset, groupby='stim', \n",
        "                        groups= ['STIM'], reference='CTRL', rankby_abs=True)"
      ],
      "execution_count": 0,
      "outputs": []
    },
    {
      "cell_type": "code",
      "metadata": {
        "id": "WMDpHzi8bZAO",
        "colab_type": "code",
        "colab": {}
      },
      "source": [
        "pl.rcParams['figure.figsize']=(10,5)\n",
        "sc.pl.rank_genes_groups(subset, size=10, n_genes=50)"
      ],
      "execution_count": 0,
      "outputs": []
    },
    {
      "cell_type": "code",
      "metadata": {
        "id": "EEkzJRIibZAQ",
        "colab_type": "code",
        "colab": {}
      },
      "source": [
        "markers=pd.DataFrame(subset.uns['rank_genes_groups']['names']).head(30)\n",
        "markers"
      ],
      "execution_count": 0,
      "outputs": []
    },
    {
      "cell_type": "code",
      "metadata": {
        "id": "OsSPYHNQbZAT",
        "colab_type": "code",
        "colab": {}
      },
      "source": [
        "pl.rcParams['lines.linewidth'] = 0.1\n",
        "sc.pl.rank_genes_groups_violin(subset,  n_genes=20, jitter=False)"
      ],
      "execution_count": 0,
      "outputs": []
    },
    {
      "cell_type": "markdown",
      "metadata": {
        "tags": [
          "Difxpy"
        ],
        "id": "fGd6suHibZAd",
        "colab_type": "text"
      },
      "source": [
        "# Difxpy"
      ]
    },
    {
      "cell_type": "markdown",
      "metadata": {
        "id": "VylWc2EvbZAd",
        "colab_type": "text"
      },
      "source": [
        "## T-test"
      ]
    },
    {
      "cell_type": "code",
      "metadata": {
        "id": "WKq3SGaebZAg",
        "colab_type": "code",
        "colab": {}
      },
      "source": [
        "test_tt = de.test.t_test(data=subset,grouping=\"stim\")"
      ],
      "execution_count": 0,
      "outputs": []
    },
    {
      "cell_type": "code",
      "metadata": {
        "id": "CcpWVLI1bZAh",
        "colab_type": "code",
        "colab": {}
      },
      "source": [
        "test_tt.summary().iloc[:10,:]"
      ],
      "execution_count": 0,
      "outputs": []
    },
    {
      "cell_type": "code",
      "metadata": {
        "id": "V8Z7FS-Z5Cte",
        "colab_type": "code",
        "colab": {}
      },
      "source": [
        "DEG=test_tt.gene_ids[1:10]\n",
        "DEG"
      ],
      "execution_count": 0,
      "outputs": []
    },
    {
      "cell_type": "code",
      "metadata": {
        "id": "TVp7JIOb4U-n",
        "colab_type": "code",
        "colab": {}
      },
      "source": [
        "pl.rcParams['lines.linewidth'] = 0.1\n",
        "sc.pl.rank_genes_groups_violin(subset, gene_names=DEG,  jitter=False)"
      ],
      "execution_count": 0,
      "outputs": []
    },
    {
      "cell_type": "markdown",
      "metadata": {
        "id": "HsLAUrHvbZAk",
        "colab_type": "text"
      },
      "source": [
        "# MAST"
      ]
    },
    {
      "cell_type": "code",
      "metadata": {
        "id": "oCgx8e2_bZAk",
        "colab_type": "code",
        "colab": {}
      },
      "source": [
        "#Create new Anndata object for use in MAST with non-batch corrected data as before\n",
        "adata_test = subset.copy()\n",
        "adata_test.X = subset.raw.X\n",
        "adata_test.obs['n_genes'] = (adata_test.X > 0).sum(1) # recompute number of genes expressed per cell"
      ],
      "execution_count": 0,
      "outputs": []
    },
    {
      "cell_type": "code",
      "metadata": {
        "id": "eM8MG18mbZAn",
        "colab_type": "code",
        "colab": {}
      },
      "source": [
        "adata_test.shape"
      ],
      "execution_count": 0,
      "outputs": []
    },
    {
      "cell_type": "code",
      "metadata": {
        "id": "R4NzfEk-bZAp",
        "colab_type": "code",
        "colab": {}
      },
      "source": [
        "%%R -i adata_test \n",
        "suppressPackageStartupMessages(library(scater))\n",
        "suppressPackageStartupMessages(library(MAST))\n",
        "\n",
        "adata_test<-logNormCounts(adata_test)\n",
        "sca = SceToSingleCellAssay(adata_test)\n",
        "\n",
        "\n"
      ],
      "execution_count": 0,
      "outputs": []
    },
    {
      "cell_type": "code",
      "metadata": {
        "scrolled": true,
        "id": "ySf0jb7ibZAr",
        "colab_type": "code",
        "colab": {}
      },
      "source": [
        "%%time\n",
        "%%R\n",
        "colData(sca)$n_genes = scale(colData(sca)$n_genes)\n",
        "\n",
        "#Filter out non-expressed genes in the subsets\n",
        "print(\"Dimensions before filtering:\")\n",
        "print(dim(sca))\n",
        "print(\"\")\n",
        "sca_filt = sca[rowSums(assay(sca)) != 0, ]\n",
        "print(\"Dimensions after filtering:\")\n",
        "print(dim(sca_filt))\n",
        "\n",
        "#Define & run hurdle model \n",
        "zlmCond_CTR <- zlm(formula = ~ stim + n_genes, sca=sca_filt)"
      ],
      "execution_count": 0,
      "outputs": []
    },
    {
      "cell_type": "code",
      "metadata": {
        "scrolled": true,
        "id": "bi0bB189bZAt",
        "colab_type": "code",
        "colab": {}
      },
      "source": [
        "%%time\n",
        "%%R -o IFN_de\n",
        "options(Ncpus = 4)\n",
        "summaryCond_CTR <- summary(zlmCond_CTR, doLRT='stimSTIM')\n",
        "summaryDt_CTR <- summaryCond_CTR$datatable\n",
        "\n",
        "result_CTR <- merge(summaryDt_CTR[contrast=='stimSTIM' & component=='H',.(primerid, `Pr(>Chisq)`)], #P-vals\n",
        "                 summaryDt_CTR[contrast=='stimSTIM' & component=='logFC', .(primerid, coef)],\n",
        "                 by='primerid') #logFC coefficients\n",
        "\n",
        "#Correct for multiple testing (FDR correction) and filtering\n",
        "result_CTR[,FDR:=p.adjust(`Pr(>Chisq)`, 'fdr')]\n",
        "IFN_de = result_CTR[result_CTR$FDR<0.01,, drop=F]\n",
        "IFN_de = IFN_de[order(IFN_de$FDR),]"
      ],
      "execution_count": 0,
      "outputs": []
    },
    {
      "cell_type": "code",
      "metadata": {
        "id": "WFtKIl0ebZAv",
        "colab_type": "code",
        "colab": {}
      },
      "source": [
        "print(IFN_de.shape)\n",
        "IFN_de[:20]"
      ],
      "execution_count": 0,
      "outputs": []
    },
    {
      "cell_type": "code",
      "metadata": {
        "id": "nt0Mq7ohbZAx",
        "colab_type": "code",
        "colab": {}
      },
      "source": [
        "#Volcano plot of results\n",
        "IFN_de['-logQ'] = -np.log(IFN_de['FDR'])\n",
        "lowqval_de = IFN_de.loc[IFN_de['-logQ'] > 200]\n",
        "other_de = IFN_de.loc[IFN_de['-logQ'] < 200]\n",
        "\n",
        "fig, ax = pl.subplots()\n",
        "sb.regplot(other_de['coef'], other_de['-logQ'], fit_reg=False, scatter_kws={'s':6})\n",
        "sb.regplot(lowqval_de['coef'], lowqval_de['-logQ'], fit_reg=False, scatter_kws={'s':6})\n",
        "ax.set_xlabel(\"log2 FC\", fontsize=20)\n",
        "ax.set_ylabel(\"-log Q-value\", fontsize=20)\n",
        "ax.tick_params(labelsize=15)\n",
        "\n",
        "# Label names and positions\n",
        "x = [i-0.2 for i in lowqval_de['coef']]\n",
        "y = [i+10 for i in lowqval_de['-logQ']]\n",
        "labels = lowqval_de['primerid']\n",
        "\n",
        "# Show only some labels to avoid overcrowding the figure\n",
        "to_remove = np.where([i < 230 for i in y])[0]\n",
        "labels = [\"\" if i in to_remove else lab for i,lab in enumerate(labels) ]\n",
        "\n",
        "#Move up two labels\n",
        "y = [y[i]+10 if txt == 'Krt8' else y[i] for i,txt in enumerate(labels)]\n",
        "y = [y[i]+20 if txt == 'Cd9' else y[i] for i,txt in enumerate(labels)]\n",
        "\n",
        "#Move down one label\n",
        "y = [y[i]-20 if txt == 'Phgr1' else y[i] for i,txt in enumerate(labels)]\n",
        "\n",
        "for i,txt in enumerate(labels):\n",
        "    ax.annotate(txt, (x[i], y[i]))\n",
        "pl.show()"
      ],
      "execution_count": 0,
      "outputs": []
    },
    {
      "cell_type": "code",
      "metadata": {
        "id": "9tBa_vucbZAz",
        "colab_type": "code",
        "colab": {}
      },
      "source": [
        "IFN_de.to_csv(\"DEG_allcells_CTR_vs_IFN.csv\")"
      ],
      "execution_count": 0,
      "outputs": []
    }
  ]
}
