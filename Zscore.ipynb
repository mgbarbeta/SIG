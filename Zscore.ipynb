{
  "nbformat": 4,
  "nbformat_minor": 0,
  "metadata": {
    "colab": {
      "name": "Zscore.ipynb",
      "provenance": [],
      "authorship_tag": "ABX9TyPNTvO/ucOV5dZFl7uzKNqk",
      "include_colab_link": true
    },
    "kernelspec": {
      "name": "python3",
      "display_name": "Python 3"
    },
    "widgets": {
      "application/vnd.jupyter.widget-state+json": {
        "e10471c179c947fb9a22ab09d308af5c": {
          "model_module": "@jupyter-widgets/controls",
          "model_name": "HBoxModel",
          "state": {
            "_view_name": "HBoxView",
            "_dom_classes": [],
            "_model_name": "HBoxModel",
            "_view_module": "@jupyter-widgets/controls",
            "_model_module_version": "1.5.0",
            "_view_count": null,
            "_view_module_version": "1.5.0",
            "box_style": "",
            "layout": "IPY_MODEL_55d1a97da99a4dc08851aab15061b819",
            "_model_module": "@jupyter-widgets/controls",
            "children": [
              "IPY_MODEL_d1d1ee5e78e74ed98647718ade3a3f92",
              "IPY_MODEL_838f8ea296b742f091891530a20599a0"
            ]
          }
        },
        "55d1a97da99a4dc08851aab15061b819": {
          "model_module": "@jupyter-widgets/base",
          "model_name": "LayoutModel",
          "state": {
            "_view_name": "LayoutView",
            "grid_template_rows": null,
            "right": null,
            "justify_content": null,
            "_view_module": "@jupyter-widgets/base",
            "overflow": null,
            "_model_module_version": "1.2.0",
            "_view_count": null,
            "flex_flow": null,
            "width": null,
            "min_width": null,
            "border": null,
            "align_items": null,
            "bottom": null,
            "_model_module": "@jupyter-widgets/base",
            "top": null,
            "grid_column": null,
            "overflow_y": null,
            "overflow_x": null,
            "grid_auto_flow": null,
            "grid_area": null,
            "grid_template_columns": null,
            "flex": null,
            "_model_name": "LayoutModel",
            "justify_items": null,
            "grid_row": null,
            "max_height": null,
            "align_content": null,
            "visibility": null,
            "align_self": null,
            "height": null,
            "min_height": null,
            "padding": null,
            "grid_auto_rows": null,
            "grid_gap": null,
            "max_width": null,
            "order": null,
            "_view_module_version": "1.2.0",
            "grid_template_areas": null,
            "object_position": null,
            "object_fit": null,
            "grid_auto_columns": null,
            "margin": null,
            "display": null,
            "left": null
          }
        },
        "d1d1ee5e78e74ed98647718ade3a3f92": {
          "model_module": "@jupyter-widgets/controls",
          "model_name": "FloatProgressModel",
          "state": {
            "_view_name": "ProgressView",
            "style": "IPY_MODEL_0a4ac24f27a649b8a74fbb259ee7f733",
            "_dom_classes": [],
            "description": "pbmc3k_processed.h5ad: ",
            "_model_name": "FloatProgressModel",
            "bar_style": "success",
            "max": 1,
            "_view_module": "@jupyter-widgets/controls",
            "_model_module_version": "1.5.0",
            "value": 1,
            "_view_count": null,
            "_view_module_version": "1.5.0",
            "orientation": "horizontal",
            "min": 0,
            "description_tooltip": null,
            "_model_module": "@jupyter-widgets/controls",
            "layout": "IPY_MODEL_1e030ba10a014a77bc6d9936f8fd48d4"
          }
        },
        "838f8ea296b742f091891530a20599a0": {
          "model_module": "@jupyter-widgets/controls",
          "model_name": "HTMLModel",
          "state": {
            "_view_name": "HTMLView",
            "style": "IPY_MODEL_1c224d5659014eedbfa2f4102e8d35d0",
            "_dom_classes": [],
            "description": "",
            "_model_name": "HTMLModel",
            "placeholder": "​",
            "_view_module": "@jupyter-widgets/controls",
            "_model_module_version": "1.5.0",
            "value": " 24.7M/? [00:01&lt;00:00, 16.0MB/s]",
            "_view_count": null,
            "_view_module_version": "1.5.0",
            "description_tooltip": null,
            "_model_module": "@jupyter-widgets/controls",
            "layout": "IPY_MODEL_f3f819ae2677442d9c1a7622c0e60b05"
          }
        },
        "0a4ac24f27a649b8a74fbb259ee7f733": {
          "model_module": "@jupyter-widgets/controls",
          "model_name": "ProgressStyleModel",
          "state": {
            "_view_name": "StyleView",
            "_model_name": "ProgressStyleModel",
            "description_width": "initial",
            "_view_module": "@jupyter-widgets/base",
            "_model_module_version": "1.5.0",
            "_view_count": null,
            "_view_module_version": "1.2.0",
            "bar_color": null,
            "_model_module": "@jupyter-widgets/controls"
          }
        },
        "1e030ba10a014a77bc6d9936f8fd48d4": {
          "model_module": "@jupyter-widgets/base",
          "model_name": "LayoutModel",
          "state": {
            "_view_name": "LayoutView",
            "grid_template_rows": null,
            "right": null,
            "justify_content": null,
            "_view_module": "@jupyter-widgets/base",
            "overflow": null,
            "_model_module_version": "1.2.0",
            "_view_count": null,
            "flex_flow": null,
            "width": null,
            "min_width": null,
            "border": null,
            "align_items": null,
            "bottom": null,
            "_model_module": "@jupyter-widgets/base",
            "top": null,
            "grid_column": null,
            "overflow_y": null,
            "overflow_x": null,
            "grid_auto_flow": null,
            "grid_area": null,
            "grid_template_columns": null,
            "flex": null,
            "_model_name": "LayoutModel",
            "justify_items": null,
            "grid_row": null,
            "max_height": null,
            "align_content": null,
            "visibility": null,
            "align_self": null,
            "height": null,
            "min_height": null,
            "padding": null,
            "grid_auto_rows": null,
            "grid_gap": null,
            "max_width": null,
            "order": null,
            "_view_module_version": "1.2.0",
            "grid_template_areas": null,
            "object_position": null,
            "object_fit": null,
            "grid_auto_columns": null,
            "margin": null,
            "display": null,
            "left": null
          }
        },
        "1c224d5659014eedbfa2f4102e8d35d0": {
          "model_module": "@jupyter-widgets/controls",
          "model_name": "DescriptionStyleModel",
          "state": {
            "_view_name": "StyleView",
            "_model_name": "DescriptionStyleModel",
            "description_width": "",
            "_view_module": "@jupyter-widgets/base",
            "_model_module_version": "1.5.0",
            "_view_count": null,
            "_view_module_version": "1.2.0",
            "_model_module": "@jupyter-widgets/controls"
          }
        },
        "f3f819ae2677442d9c1a7622c0e60b05": {
          "model_module": "@jupyter-widgets/base",
          "model_name": "LayoutModel",
          "state": {
            "_view_name": "LayoutView",
            "grid_template_rows": null,
            "right": null,
            "justify_content": null,
            "_view_module": "@jupyter-widgets/base",
            "overflow": null,
            "_model_module_version": "1.2.0",
            "_view_count": null,
            "flex_flow": null,
            "width": null,
            "min_width": null,
            "border": null,
            "align_items": null,
            "bottom": null,
            "_model_module": "@jupyter-widgets/base",
            "top": null,
            "grid_column": null,
            "overflow_y": null,
            "overflow_x": null,
            "grid_auto_flow": null,
            "grid_area": null,
            "grid_template_columns": null,
            "flex": null,
            "_model_name": "LayoutModel",
            "justify_items": null,
            "grid_row": null,
            "max_height": null,
            "align_content": null,
            "visibility": null,
            "align_self": null,
            "height": null,
            "min_height": null,
            "padding": null,
            "grid_auto_rows": null,
            "grid_gap": null,
            "max_width": null,
            "order": null,
            "_view_module_version": "1.2.0",
            "grid_template_areas": null,
            "object_position": null,
            "object_fit": null,
            "grid_auto_columns": null,
            "margin": null,
            "display": null,
            "left": null
          }
        }
      }
    }
  },
  "cells": [
    {
      "cell_type": "markdown",
      "metadata": {
        "id": "view-in-github",
        "colab_type": "text"
      },
      "source": [
        "<a href=\"https://colab.research.google.com/github/afvallejo/SIG/blob/master/Zscore.ipynb\" target=\"_parent\"><img src=\"https://colab.research.google.com/assets/colab-badge.svg\" alt=\"Open In Colab\"/></a>"
      ]
    },
    {
      "cell_type": "code",
      "metadata": {
        "id": "5iTqXi0G4_tY",
        "colab_type": "code",
        "colab": {}
      },
      "source": [
        "pip install scanpy[leiden]"
      ],
      "execution_count": 0,
      "outputs": []
    },
    {
      "cell_type": "code",
      "metadata": {
        "id": "ghSXEfea5x-9",
        "colab_type": "code",
        "colab": {}
      },
      "source": [
        "import scanpy as sc"
      ],
      "execution_count": 0,
      "outputs": []
    },
    {
      "cell_type": "code",
      "metadata": {
        "id": "HJKkOwhd50iU",
        "colab_type": "code",
        "colab": {
          "base_uri": "https://localhost:8080/",
          "height": 66,
          "referenced_widgets": [
            "e10471c179c947fb9a22ab09d308af5c",
            "55d1a97da99a4dc08851aab15061b819",
            "d1d1ee5e78e74ed98647718ade3a3f92",
            "838f8ea296b742f091891530a20599a0",
            "0a4ac24f27a649b8a74fbb259ee7f733",
            "1e030ba10a014a77bc6d9936f8fd48d4",
            "1c224d5659014eedbfa2f4102e8d35d0",
            "f3f819ae2677442d9c1a7622c0e60b05"
          ]
        },
        "outputId": "0881dc81-9aea-4e00-d3fd-8faf9975fedf"
      },
      "source": [
        "adata=sc.datasets.pbmc3k_processed()"
      ],
      "execution_count": 3,
      "outputs": [
        {
          "output_type": "display_data",
          "data": {
            "application/vnd.jupyter.widget-view+json": {
              "model_id": "e10471c179c947fb9a22ab09d308af5c",
              "version_minor": 0,
              "version_major": 2
            },
            "text/plain": [
              "HBox(children=(FloatProgress(value=1.0, bar_style='info', description='pbmc3k_processed.h5ad', max=1.0, style=…"
            ]
          },
          "metadata": {
            "tags": []
          }
        },
        {
          "output_type": "stream",
          "text": [
            "\n"
          ],
          "name": "stdout"
        }
      ]
    },
    {
      "cell_type": "code",
      "metadata": {
        "id": "X5nFznbT6my7",
        "colab_type": "code",
        "colab": {}
      },
      "source": [
        "sc.pp.scale(adata, max_value=10)"
      ],
      "execution_count": 0,
      "outputs": []
    },
    {
      "cell_type": "code",
      "metadata": {
        "id": "uckVizXR5DtS",
        "colab_type": "code",
        "colab": {}
      },
      "source": [
        "geneset=['HLA-DRA','CD79']"
      ],
      "execution_count": 0,
      "outputs": []
    },
    {
      "cell_type": "code",
      "metadata": {
        "id": "m_qeAyHP5Dv6",
        "colab_type": "code",
        "colab": {
          "base_uri": "https://localhost:8080/",
          "height": 245
        },
        "outputId": "d5572ca9-e8b9-456c-dc92-92175d0fb016"
      },
      "source": [
        "sc.tl.score_genes(adata, geneset, ctrl_size=500, use_raw=True,\n",
        "                  score_name='HLA_Score')\n",
        "adata.obs.head()"
      ],
      "execution_count": 15,
      "outputs": [
        {
          "output_type": "stream",
          "text": [
            "WARNING: genes are not in var_names and ignored: ['CD79']\n"
          ],
          "name": "stdout"
        },
        {
          "output_type": "execute_result",
          "data": {
            "text/html": [
              "<div>\n",
              "<style scoped>\n",
              "    .dataframe tbody tr th:only-of-type {\n",
              "        vertical-align: middle;\n",
              "    }\n",
              "\n",
              "    .dataframe tbody tr th {\n",
              "        vertical-align: top;\n",
              "    }\n",
              "\n",
              "    .dataframe thead th {\n",
              "        text-align: right;\n",
              "    }\n",
              "</style>\n",
              "<table border=\"1\" class=\"dataframe\">\n",
              "  <thead>\n",
              "    <tr style=\"text-align: right;\">\n",
              "      <th></th>\n",
              "      <th>n_genes</th>\n",
              "      <th>percent_mito</th>\n",
              "      <th>n_counts</th>\n",
              "      <th>louvain</th>\n",
              "      <th>HLA_Score</th>\n",
              "    </tr>\n",
              "    <tr>\n",
              "      <th>index</th>\n",
              "      <th></th>\n",
              "      <th></th>\n",
              "      <th></th>\n",
              "      <th></th>\n",
              "      <th></th>\n",
              "    </tr>\n",
              "  </thead>\n",
              "  <tbody>\n",
              "    <tr>\n",
              "      <th>AAACATACAACCAC-1</th>\n",
              "      <td>781</td>\n",
              "      <td>0.030178</td>\n",
              "      <td>2419.0</td>\n",
              "      <td>CD4 T cells</td>\n",
              "      <td>-0.011816</td>\n",
              "    </tr>\n",
              "    <tr>\n",
              "      <th>AAACATTGAGCTAC-1</th>\n",
              "      <td>1352</td>\n",
              "      <td>0.037936</td>\n",
              "      <td>4903.0</td>\n",
              "      <td>B cells</td>\n",
              "      <td>2.572115</td>\n",
              "    </tr>\n",
              "    <tr>\n",
              "      <th>AAACATTGATCAGC-1</th>\n",
              "      <td>1131</td>\n",
              "      <td>0.008897</td>\n",
              "      <td>3147.0</td>\n",
              "      <td>CD4 T cells</td>\n",
              "      <td>-0.885824</td>\n",
              "    </tr>\n",
              "    <tr>\n",
              "      <th>AAACCGTGCTTCCG-1</th>\n",
              "      <td>960</td>\n",
              "      <td>0.017431</td>\n",
              "      <td>2639.0</td>\n",
              "      <td>CD14+ Monocytes</td>\n",
              "      <td>2.332600</td>\n",
              "    </tr>\n",
              "    <tr>\n",
              "      <th>AAACCGTGTATGCG-1</th>\n",
              "      <td>522</td>\n",
              "      <td>0.012245</td>\n",
              "      <td>980.0</td>\n",
              "      <td>NK cells</td>\n",
              "      <td>0.319066</td>\n",
              "    </tr>\n",
              "  </tbody>\n",
              "</table>\n",
              "</div>"
            ],
            "text/plain": [
              "                  n_genes  percent_mito  n_counts          louvain  HLA_Score\n",
              "index                                                                        \n",
              "AAACATACAACCAC-1      781      0.030178    2419.0      CD4 T cells  -0.011816\n",
              "AAACATTGAGCTAC-1     1352      0.037936    4903.0          B cells   2.572115\n",
              "AAACATTGATCAGC-1     1131      0.008897    3147.0      CD4 T cells  -0.885824\n",
              "AAACCGTGCTTCCG-1      960      0.017431    2639.0  CD14+ Monocytes   2.332600\n",
              "AAACCGTGTATGCG-1      522      0.012245     980.0         NK cells   0.319066"
            ]
          },
          "metadata": {
            "tags": []
          },
          "execution_count": 15
        }
      ]
    },
    {
      "cell_type": "code",
      "metadata": {
        "id": "aJzkqVMU5Ekg",
        "colab_type": "code",
        "colab": {
          "base_uri": "https://localhost:8080/",
          "height": 277
        },
        "outputId": "bdda1dc7-e83c-405a-c5f1-e872e8137a97"
      },
      "source": [
        "sc.pl.umap(adata, color='HLA_Score',sort_order=True)"
      ],
      "execution_count": 16,
      "outputs": [
        {
          "output_type": "display_data",
          "data": {
            "image/png": "[encoded data removed]",
            "text/plain": [
              "<Figure size 432x288 with 2 Axes>"
            ]
          },
          "metadata": {
            "tags": [],
            "needs_background": "light"
          }
        }
      ]
    },
    {
      "cell_type": "code",
      "metadata": {
        "id": "ZW2OMFMD6Txt",
        "colab_type": "code",
        "colab": {}
      },
      "source": [
        ""
      ],
      "execution_count": 0,
      "outputs": []
    }
  ]
}