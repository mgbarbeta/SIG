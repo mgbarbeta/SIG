{
  "nbformat": 4,
  "nbformat_minor": 0,
  "metadata": {
    "colab": {
      "name": "Alignment of 10x data using KB SIG.ipynb",
      "provenance": [],
      "collapsed_sections": [],
      "toc_visible": true,
      "machine_shape": "hm",
      "include_colab_link": true
    },
    "kernelspec": {
      "name": "python3",
      "display_name": "Python 3"
    }
  },
  "cells": [
    {
      "cell_type": "markdown",
      "metadata": {
        "id": "view-in-github",
        "colab_type": "text"
      },
      "source": [
        "<a href=\"https://colab.research.google.com/github/afvallejo/SIG/blob/master/Alignment_of_10x_data_using_KB_SIG.ipynb\" target=\"_parent\"><img src=\"https://colab.research.google.com/assets/colab-badge.svg\" alt=\"Open In Colab\"/></a>"
      ]
    },
    {
      "cell_type": "markdown",
      "metadata": {
        "id": "LkK2q0SMeXmv",
        "colab_type": "text"
      },
      "source": [
        "## Installing packages"
      ]
    },
    {
      "cell_type": "code",
      "metadata": {
        "id": "Lli9_z1RDo8e",
        "colab_type": "code",
        "colab": {}
      },
      "source": [
        "!pip install kb-python scanpy[louvain] leidenalg "
      ],
      "execution_count": 0,
      "outputs": []
    },
    {
      "cell_type": "markdown",
      "metadata": {
        "id": "jvMxFrCWfMap",
        "colab_type": "text"
      },
      "source": [
        "# Getting the indexes"
      ]
    },
    {
      "cell_type": "code",
      "metadata": {
        "id": "qwKfXXyYskaR",
        "colab_type": "code",
        "colab": {}
      },
      "source": [
        "!kb ref -d human -i index.idx -g t2g.txt -f1 transcriptome.fasta"
      ],
      "execution_count": 0,
      "outputs": []
    },
    {
      "cell_type": "markdown",
      "metadata": {
        "id": "tGS0T00CU0Fl",
        "colab_type": "text"
      },
      "source": [
        "# Downloding the data"
      ]
    },
    {
      "cell_type": "code",
      "metadata": {
        "id": "xGzabpkNHuDb",
        "colab_type": "code",
        "colab": {},
        "cellView": "both"
      },
      "source": [
        "#@title\n",
        "%%time\n",
        "# Download the data from the 10x website\n",
        "!wget http://cf.10xgenomics.com/samples/cell-exp/3.0.0/pbmc_1k_v3/pbmc_1k_v3_fastqs.tar\n",
        "\n",
        "# unpack the downloaded files\n",
        "!tar -xvf pbmc_1k_v3_fastqs.tar"
      ],
      "execution_count": 0,
      "outputs": []
    },
    {
      "cell_type": "code",
      "metadata": {
        "id": "YooGNplGQAwV",
        "colab_type": "code",
        "colab": {}
      },
      "source": [
        "ls"
      ],
      "execution_count": 0,
      "outputs": []
    },
    {
      "cell_type": "markdown",
      "metadata": {
        "id": "70ojVmMsU6-2",
        "colab_type": "text"
      },
      "source": [
        "# Alingment "
      ]
    },
    {
      "cell_type": "code",
      "metadata": {
        "id": "NpeZ50MrHw_Y",
        "colab_type": "code",
        "colab": {}
      },
      "source": [
        "!kb count --h5ad -i index.idx -g t2g.txt -x 10xv3 -o output --filter bustools -t 4 \\\n",
        "pbmc_1k_v3_fastqs/pbmc_1k_v3_S1_L001_R1_001.fastq.gz \\\n",
        "pbmc_1k_v3_fastqs/pbmc_1k_v3_S1_L001_R2_001.fastq.gz \\\n",
        "pbmc_1k_v3_fastqs/pbmc_1k_v3_S1_L002_R1_001.fastq.gz \\\n",
        "pbmc_1k_v3_fastqs/pbmc_1k_v3_S1_L002_R2_001.fastq.gz"
      ],
      "execution_count": 0,
      "outputs": []
    },
    {
      "cell_type": "markdown",
      "metadata": {
        "id": "jnNsgG8cVDTy",
        "colab_type": "text"
      },
      "source": [
        "# Reading the output"
      ]
    },
    {
      "cell_type": "code",
      "metadata": {
        "id": "gT1NDFWDNi8g",
        "colab_type": "code",
        "colab": {}
      },
      "source": [
        "import numpy as np\n",
        "import pandas as pd\n",
        "import scanpy as sc\n",
        "sc.settings.verbosity = 3             # verbosity: errors (0), warnings (1), info (2), hints (3)\n",
        "sc.logging.print_versions()"
      ],
      "execution_count": 0,
      "outputs": []
    },
    {
      "cell_type": "code",
      "metadata": {
        "id": "XPe5NbVdNr_K",
        "colab_type": "code",
        "colab": {}
      },
      "source": [
        "adata=sc.read('/content/output/counts_filtered/adata.h5ad')\n",
        "adata.var[\"gene_id\"] = adata.var.index.values\n",
        "\n",
        "t2g = pd.read_csv(\"t2g.txt\", header=None, names=[\"tid\", \"gene_id\", \"gene_name\"], sep=\"\\t\")\n",
        "t2g.index = t2g.gene_id\n",
        "t2g = t2g.loc[~t2g.index.duplicated(keep='first')]\n",
        "\n",
        "adata.var[\"gene_name\"] = adata.var.gene_id.map(t2g[\"gene_name\"])\n",
        "adata.var.index = adata.var[\"gene_name\"]\n",
        "\n",
        "adata.var_names_make_unique()  # this is unnecessary if using `var_names='gene_ids'` in `sc.read_10x_mtx`"
      ],
      "execution_count": 0,
      "outputs": []
    },
    {
      "cell_type": "code",
      "metadata": {
        "id": "3GGS0I2-AMb9",
        "colab_type": "code",
        "colab": {}
      },
      "source": [
        "sc.pp.filter_cells(adata, min_genes=200)\n",
        "sc.pp.filter_genes(adata, min_cells=3)"
      ],
      "execution_count": 0,
      "outputs": []
    },
    {
      "cell_type": "code",
      "metadata": {
        "id": "RTzLG5Bz1Udj",
        "colab_type": "code",
        "colab": {}
      },
      "source": [
        "mito_genes = adata.var_names.str.startswith('MT-')\n",
        "# for each cell compute fraction of counts in mito genes vs. all genes\n",
        "# the `.A1` is only necessary as X is sparse (to transform to a dense array after summing)\n",
        "adata.obs['percent_mito'] = np.sum(\n",
        "    adata[:, mito_genes].X, axis=1).A1 / np.sum(adata.X, axis=1).A1\n",
        "# add the total counts per cell as observations-annotation to adata\n",
        "adata.obs['n_counts'] = adata.X.sum(axis=1).A1"
      ],
      "execution_count": 0,
      "outputs": []
    },
    {
      "cell_type": "code",
      "metadata": {
        "id": "js06UrhqLnRB",
        "colab_type": "code",
        "colab": {}
      },
      "source": [
        "sc.pl.violin(adata, ['n_genes', 'n_counts', 'percent_mito'],\n",
        "             jitter=0.4, multi_panel=True)"
      ],
      "execution_count": 0,
      "outputs": []
    },
    {
      "cell_type": "code",
      "metadata": {
        "id": "96jySmvMR_iO",
        "colab_type": "code",
        "colab": {}
      },
      "source": [
        "sc.pl.highest_expr_genes(adata, n_top=20, )"
      ],
      "execution_count": 0,
      "outputs": []
    },
    {
      "cell_type": "code",
      "metadata": {
        "id": "EV2RH4c2Lnay",
        "colab_type": "code",
        "colab": {}
      },
      "source": [
        "sc.pl.scatter(adata, x='n_counts', y='percent_mito')\n",
        "sc.pl.scatter(adata, x='n_counts', y='n_genes')"
      ],
      "execution_count": 0,
      "outputs": []
    },
    {
      "cell_type": "code",
      "metadata": {
        "id": "Ci-iqTUyZMZe",
        "colab_type": "code",
        "colab": {}
      },
      "source": [
        "adata.write('clean_data.h5ad')"
      ],
      "execution_count": 0,
      "outputs": []
    },
    {
      "cell_type": "markdown",
      "metadata": {
        "id": "bBANqoT_eijH",
        "colab_type": "text"
      },
      "source": [
        "# Connecting to drive"
      ]
    },
    {
      "cell_type": "code",
      "metadata": {
        "id": "6pmk4fiHefeB",
        "colab_type": "code",
        "colab": {}
      },
      "source": [
        "from google.colab import drive\n",
        "drive.mount('/content/drive')"
      ],
      "execution_count": 0,
      "outputs": []
    }
  ]
}