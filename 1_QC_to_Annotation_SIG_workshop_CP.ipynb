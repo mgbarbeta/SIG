{
  "nbformat": 4,
  "nbformat_minor": 0,
  "metadata": {
    "colab": {
      "name": "1_QC_to_Annotation_SIG_workshop_CP.ipynb",
      "provenance": [],
      "collapsed_sections": [],
      "toc_visible": true,
      "include_colab_link": true
    },
    "kernelspec": {
      "name": "python3",
      "display_name": "Python 3"
    }
  },
  "cells": [
    {
      "cell_type": "markdown",
      "metadata": {
        "id": "view-in-github",
        "colab_type": "text"
      },
      "source": [
        "<a href=\"https://colab.research.google.com/github/afvallejo/SIG/blob/master/1_QC_to_Annotation_SIG_workshop_CP.ipynb\" target=\"_parent\"><img src=\"https://colab.research.google.com/assets/colab-badge.svg\" alt=\"Open In Colab\"/></a>"
      ]
    },
    {
      "cell_type": "markdown",
      "metadata": {
        "id": "evXce7PHiCTj",
        "colab_type": "text"
      },
      "source": [
        "# Installing packages"
      ]
    },
    {
      "cell_type": "code",
      "metadata": {
        "id": "SCXxenvfA3X5",
        "colab_type": "code",
        "colab": {}
      },
      "source": [
        "\n",
        "!pip install MulticoreTSNE scanpy[louvain] MulticoreTSNE anndata2ri leidenalg"
      ],
      "execution_count": 0,
      "outputs": []
    },
    {
      "cell_type": "markdown",
      "metadata": {
        "id": "tRW_Dtqv9kAa",
        "colab_type": "text"
      },
      "source": [
        "# Setup"
      ]
    },
    {
      "cell_type": "code",
      "metadata": {
        "id": "ELPfxgU6pW04",
        "colab_type": "code",
        "cellView": "form",
        "colab": {}
      },
      "source": [
        "\n",
        "state = 42\n",
        "metric = \"euclidean\"\n",
        "\n",
        "\n",
        "# Filtering criteria\n",
        "min_counts = 500#@param {type:\"slider\", min:50, max:1000, step:50}\n",
        "max_counts = 40000#@param {type:\"slider\", min:5000, max:50000, step:5000}\n",
        "min_genes = 5#@param {type:\"slider\", min:5, max:100, step:5}\n",
        "\n",
        "mito_criteria = 20#@param {type:\"slider\", min:0, max:100, step:5}\n",
        "\n",
        "flavor=\"cell_ranger\" #@param [\"cell_ranger\",\"seurat\"] {allow-input: true}\n",
        "n_top_genes = 3000#@param {type:\"slider\", min:500, max:5000, step:100}\n",
        "\n",
        "n_neighbors = 30#@param {type:\"slider\", min:5, max:50, step:5}\n",
        "num_PCA = 30#@param {type:\"slider\", min:5, max:50, step:5}\n",
        "\n",
        "\n",
        "#_________________________________________________________________________________\n",
        "\n"
      ],
      "execution_count": 0,
      "outputs": []
    },
    {
      "cell_type": "markdown",
      "metadata": {
        "id": "ThVj-fAm0xY9",
        "colab_type": "text"
      },
      "source": [
        "# Download H5Ad"
      ]
    },
    {
      "cell_type": "code",
      "metadata": {
        "id": "OSNB-lSImMkZ",
        "colab_type": "code",
        "colab": {}
      },
      "source": [
        "!gdown --id 19VIXx66pnL-go1Ktud324jzBCcBx0Ne5"
      ],
      "execution_count": 0,
      "outputs": []
    },
    {
      "cell_type": "markdown",
      "metadata": {
        "id": "t2gGXPnOn3FD",
        "colab_type": "text"
      },
      "source": [
        "# Load packages"
      ]
    },
    {
      "cell_type": "code",
      "metadata": {
        "id": "JFZDQ7bq-PBM",
        "colab_type": "code",
        "colab": {}
      },
      "source": [
        "import scanpy as sc\n",
        "\n",
        "# numpy et al.\n",
        "import numpy as np\n",
        "import scipy.sparse as sp\n",
        "import pandas as pd\n",
        "import gc\n",
        "\n",
        "# R integration\n",
        "from rpy2.robjects.packages import importr\n",
        "\n",
        "from rpy2.robjects.vectors import StrVector, FloatVector, ListVector\n",
        "import rpy2.robjects as ro\n",
        "import anndata2ri\n",
        "\n",
        "import numpy as np\n",
        "import matplotlib.pyplot as pl\n",
        "import pandas as pd\n",
        "import seaborn as sb\n",
        "import re\n",
        "import scipy as sp\n",
        "import datetime, time\n",
        "sc.settings.verbosity = 3               # verbosity: errors (0), warnings (1), info (2), hints (3)\n",
        "sc.logging.print_versions()\n",
        "sc.logging.print_version_and_date()\n",
        "\n"
      ],
      "execution_count": 0,
      "outputs": []
    },
    {
      "cell_type": "markdown",
      "metadata": {
        "id": "3G7rLdwbiVjI",
        "colab_type": "text"
      },
      "source": [
        "# Load the data"
      ]
    },
    {
      "cell_type": "code",
      "metadata": {
        "id": "ufauBAIyfHuC",
        "colab_type": "code",
        "colab": {}
      },
      "source": [
        "adata = sc.read('/content/adata.h5ad', cache=False)\n",
        "adata.obs['sample'] = ['sample1']*adata.n_obs\n",
        "adata.obs['treatment'] = ['CTR']*adata.n_obs\n",
        "adata.obs['donor'] = ['D1']*adata.n_obs\n",
        "#adata.X = sp.sparse.csr_matrix(adata.X)\n",
        "adata.var_names_make_unique()\n",
        "adata.obs_names_make_unique()\n",
        "adata"
      ],
      "execution_count": 0,
      "outputs": []
    },
    {
      "cell_type": "markdown",
      "metadata": {
        "id": "S6-xScc7hyCG",
        "colab_type": "text"
      },
      "source": [
        " # QC and filtering"
      ]
    },
    {
      "cell_type": "code",
      "metadata": {
        "id": "4rTFrc59g_zF",
        "colab_type": "code",
        "colab": {}
      },
      "source": [
        "# Quality control - calculate QC covariates\n",
        "adata.obs['n_counts'] = adata.X.sum(1)\n",
        "adata.obs['log_counts'] = np.log(adata.obs['n_counts'])\n",
        "adata.obs['n_genes'] = (adata.X > 0).sum(1)\n",
        "\n",
        "#mito_genes = [name for name in adata.var_names if name.startswith('MT-')]\n",
        "mito_genes = [name for name in adata.var_names if name.startswith('MT-')]\n",
        "adata.obs['mt_frac'] = np.sum(adata[:, mito_genes].X, axis=1) / np.sum(adata.X, axis=1)\n",
        "\n",
        "#adata.obs['mt_frac'] = np.sum(adata[:, mito_genes].X, axis=1) / np.sum(adata.X, axis=1)\n",
        "adata\n",
        "\n",
        "#mt_gene_mask = [gene.startswith('MT-') for gene in adata.var['gene_symbol']]\n",
        "#adata.obs['mt_frac'] = adata.X[:, mt_gene_mask].sum(1)/adata.obs['n_counts']"
      ],
      "execution_count": 0,
      "outputs": []
    },
    {
      "cell_type": "markdown",
      "metadata": {
        "id": "pF_aNT-mls1a",
        "colab_type": "text"
      },
      "source": [
        "## Filtering"
      ]
    },
    {
      "cell_type": "code",
      "metadata": {
        "id": "zAoTnbDlloAq",
        "colab_type": "code",
        "colab": {}
      },
      "source": [
        "# Filter cells according to identified QC thresholds:\n",
        "print('Total number of cells: {:d}'.format(adata.n_obs))\n",
        "\n",
        "sc.pp.filter_cells(adata, min_counts = min_counts)\n",
        "print('Number of cells after min count filter: {:d}'.format(adata.n_obs))\n",
        "\n",
        "sc.pp.filter_cells(adata, max_counts = max_counts)\n",
        "print('Number of cells after max count filter: {:d}'.format(adata.n_obs))\n",
        "\n",
        "adata = adata[adata.obs['mt_frac'] < mito_criteria]\n",
        "print('Number of cells after MT filter: {:d}'.format(adata.n_obs))\n",
        "\n",
        "sc.pp.filter_cells(adata, min_genes = min_genes)\n",
        "print('Number of cells after gene filter: {:d}'.format(adata.n_obs))"
      ],
      "execution_count": 0,
      "outputs": []
    },
    {
      "cell_type": "code",
      "metadata": {
        "id": "mJMlQv2hlsK9",
        "colab_type": "code",
        "colab": {}
      },
      "source": [
        "sb.set_context('paper')\n",
        "\n",
        "fig, (ax1, ax2, ax3) = pl.subplots(1, 3, figsize=(6, 3), dpi=150, sharey=False)\n",
        "adata.obs['n_genes']\n",
        "\n",
        "sb.distplot( adata.obs['n_genes'], ax=ax1, norm_hist=True, bins=100)\n",
        "sb.distplot( adata.obs['n_counts'], ax=ax2, norm_hist=True, bins=100)\n",
        "sb.distplot( adata.obs['mt_frac'], ax=ax3, norm_hist=True, bins=100)\n",
        "\n",
        "ax1.title.set_text('n_genes')\n",
        "ax2.title.set_text('n_counts')\n",
        "ax3.title.set_text('mt_frac')\n",
        "\n",
        "fig.text(0.00, 0.5, 'Frequency', ha='center', va='center', rotation='vertical', size='x-large')\n",
        "\n",
        "fig.tight_layout()\n",
        "\n",
        "fig.savefig('filtering_panel_postfilter1.pdf', dpi=300, bbox_inches='tight')"
      ],
      "execution_count": 0,
      "outputs": []
    },
    {
      "cell_type": "code",
      "metadata": {
        "id": "Yzn_5KbEnCEb",
        "colab_type": "code",
        "colab": {}
      },
      "source": [
        "#Filter genes:\n",
        "print('Total number of genes: {:d}'.format(adata.n_vars))\n",
        "\n",
        "# Min 20 cells - filters out 0 count genes\n",
        "sc.pp.filter_genes(adata, min_cells=20)\n",
        "print('Number of genes after cell filter: {:d}'.format(adata.n_vars))"
      ],
      "execution_count": 0,
      "outputs": []
    },
    {
      "cell_type": "code",
      "metadata": {
        "id": "Llecslm1nJHS",
        "colab_type": "code",
        "colab": {}
      },
      "source": [
        "# plot percentage of mitochondtial genes versus count depth and n_genes\n",
        "# compute qc metrics\n",
        "regex = re.compile('^(MT).*', re.IGNORECASE)\n",
        "mito_genes = [l for l in adata.var_names for m in [regex.search(l)] if m]\n",
        "adata.var['mito'] = False\n",
        "adata.var.loc[mito_genes, 'mito'] = True\n",
        "print('Found {} mito genes and annotated.'.format(len(mito_genes)))\n",
        "\n",
        "sc.pp.calculate_qc_metrics(adata, qc_vars=['mito'], inplace=True)\n",
        "\n",
        "pl.rcParams['figure.figsize']=(5,5) #rescale figures\n",
        "sc.pl.scatter(adata, x='total_counts', y='n_genes', color='mt_frac',save='.pdf')"
      ],
      "execution_count": 0,
      "outputs": []
    },
    {
      "cell_type": "markdown",
      "metadata": {
        "id": "R-kmFuHVneZE",
        "colab_type": "text"
      },
      "source": [
        "# Normalization"
      ]
    },
    {
      "cell_type": "code",
      "metadata": {
        "id": "FS49BaS6ndvA",
        "colab_type": "code",
        "colab": {}
      },
      "source": [
        "adata.raw = adata\n",
        "sc.pp.normalize_total(adata, target_sum=1e4,exclude_highly_expressed=True,inplace=True)\n",
        "sc.pp.log1p(adata)"
      ],
      "execution_count": 0,
      "outputs": []
    },
    {
      "cell_type": "markdown",
      "metadata": {
        "id": "7kTzWBGopy-8",
        "colab_type": "text"
      },
      "source": [
        "# Sellection of HVG"
      ]
    },
    {
      "cell_type": "code",
      "metadata": {
        "id": "EKS1zY-0pyWw",
        "colab_type": "code",
        "colab": {}
      },
      "source": [
        "#Expects logarithmized data.\n",
        "sc.pp.highly_variable_genes(adata, flavor=flavor, n_top_genes=n_top_genes)\n",
        "print('\\n','Number of highly variable genes: {:d}'.format(np.sum(adata.var['highly_variable'])))"
      ],
      "execution_count": 0,
      "outputs": []
    },
    {
      "cell_type": "code",
      "metadata": {
        "id": "CfXkXNpvpyiD",
        "colab_type": "code",
        "colab": {}
      },
      "source": [
        "pl.rcParams['lines.linewidth'] = 0.1\n",
        "sc.pl.highly_variable_genes(adata,save='.pdf')"
      ],
      "execution_count": 0,
      "outputs": []
    },
    {
      "cell_type": "markdown",
      "metadata": {
        "id": "LEBx9dOQqJmD",
        "colab_type": "text"
      },
      "source": [
        "## PCA"
      ]
    },
    {
      "cell_type": "code",
      "metadata": {
        "id": "bj4mt67cqI8F",
        "colab_type": "code",
        "colab": {}
      },
      "source": [
        "\n",
        "sc.pp.scale(adata,max_value=10)\n",
        "sc.pp.pca(adata, n_comps = 60, use_highly_variable = True, svd_solver = \"arpack\")\n",
        "sc.pl.pca_variance_ratio(adata, n_pcs = 40)"
      ],
      "execution_count": 0,
      "outputs": []
    },
    {
      "cell_type": "markdown",
      "metadata": {
        "id": "NUt04txyqRaW",
        "colab_type": "text"
      },
      "source": [
        "# Clustering"
      ]
    },
    {
      "cell_type": "code",
      "metadata": {
        "id": "xnhzg-6kqREX",
        "colab_type": "code",
        "colab": {}
      },
      "source": [
        "sb.set_context('talk')\n",
        "pl.rcParams['figure.figsize']=(5,5)\n",
        "\n",
        "sc.pp.neighbors(adata, n_pcs=num_PCA,n_neighbors=n_neighbors,random_state=state)\n",
        "sc.tl.louvain(adata, random_state=42,resolution = 0.5)\n",
        "sc.tl.leiden(adata,random_state=42, resolution = 0.5)\n",
        "sc.tl.umap(adata,random_state=42)\n",
        "\n",
        "sc.pl.umap(adata, color = [\"louvain\",'leiden'])"
      ],
      "execution_count": 0,
      "outputs": []
    },
    {
      "cell_type": "code",
      "metadata": {
        "id": "xCzk_ObHqxLe",
        "colab_type": "code",
        "colab": {}
      },
      "source": [
        "sb.set_context('talk')\n",
        "pl.rcParams['figure.figsize']=(5,5)\n",
        "#sc.pl.umap(adata,color='annotated')\n",
        "sc.pl.umap(adata,color=['log_counts','n_counts'])"
      ],
      "execution_count": 0,
      "outputs": []
    },
    {
      "cell_type": "code",
      "metadata": {
        "id": "m5wezxZ7qxPp",
        "colab_type": "code",
        "colab": {}
      },
      "source": [
        "sc.tl.tsne(adata,random_state=42) #Note n_jobs works for MulticoreTSNE, but not regular implementation)\n",
        "sc.tl.umap(adata,random_state=42)\n",
        "sc.tl.diffmap(adata)\n",
        "sc.tl.draw_graph(adata)"
      ],
      "execution_count": 0,
      "outputs": []
    },
    {
      "cell_type": "code",
      "metadata": {
        "id": "RNnYluemrFY-",
        "colab_type": "code",
        "colab": {}
      },
      "source": [
        "sb.set_context('paper')\n",
        "pl.rcParams['figure.figsize']=(10,5)\n",
        "fig_ind=np.arange(231, 237)\n",
        "fig = pl.figure()\n",
        "fig.subplots_adjust(hspace=0.4, wspace=0.6)\n",
        "\n",
        "p10 = sc.pl.pca_scatter(adata, color='leiden', ax=fig.add_subplot(fig_ind[0]), show=False)\n",
        "p11 = sc.pl.tsne(adata, color='leiden', ax=fig.add_subplot(fig_ind[1]), show=False)\n",
        "p12 = sc.pl.umap(adata, color='leiden', ax=fig.add_subplot(fig_ind[2]), show=False)\n",
        "p13 = sc.pl.diffmap(adata, color='leiden', components=['1,2'], ax=fig.add_subplot(fig_ind[3]),show=False)\n",
        "p14 = sc.pl.diffmap(adata, color='leiden', components=['1,3'], ax=fig.add_subplot(fig_ind[4]), show=False)\n",
        "p15 = sc.pl.draw_graph(adata, color='leiden', ax=fig.add_subplot(fig_ind[5]), show=False)\n",
        "\n",
        "pl.show()"
      ],
      "execution_count": 0,
      "outputs": []
    },
    {
      "cell_type": "code",
      "metadata": {
        "id": "b4gnQqorrG1D",
        "colab_type": "code",
        "colab": {}
      },
      "source": [
        "pl.rcParams['figure.figsize']=(5,5)\n",
        "sb.set_context('paper')\n",
        "sc.tl.leiden(adata,resolution=2, key_added='leiden_r1')\n",
        "sc.tl.leiden(adata, resolution=0.5, key_added='leiden_r0.5')\n",
        "\n",
        "#Visualize the clustering and how this is reflected by different technical covariates\n",
        "sc.pl.umap(adata, color=['leiden_r1', 'leiden_r0.5'])\n",
        "#sc.pl.umap(adata, color=['log_counts', 'mt_frac'])"
      ],
      "execution_count": 0,
      "outputs": []
    },
    {
      "cell_type": "code",
      "metadata": {
        "id": "7XwZhmCBucJT",
        "colab_type": "code",
        "colab": {}
      },
      "source": [
        "adata.write('Clustered_data.h5ad')"
      ],
      "execution_count": 0,
      "outputs": []
    },
    {
      "cell_type": "markdown",
      "metadata": {
        "id": "ZwBX7BEfcsFR",
        "colab_type": "text"
      },
      "source": [
        "# Marker genes"
      ]
    },
    {
      "cell_type": "code",
      "metadata": {
        "id": "gjI0angLb_eR",
        "colab_type": "code",
        "colab": {}
      },
      "source": [
        "#Calculate marker genes\n",
        "sc.tl.rank_genes_groups(adata, groupby='leiden_r0.5', key_added='rank_genes_r0.5')"
      ],
      "execution_count": 0,
      "outputs": []
    },
    {
      "cell_type": "code",
      "metadata": {
        "id": "ue50l2mmcB49",
        "colab_type": "code",
        "colab": {}
      },
      "source": [
        "#Plot marker genes\n",
        "sc.pl.rank_genes_groups(adata, key='rank_genes_r0.5', fontsize=12)"
      ],
      "execution_count": 0,
      "outputs": []
    },
    {
      "cell_type": "code",
      "metadata": {
        "id": "n2h-neUOcKnp",
        "colab_type": "code",
        "colab": {}
      },
      "source": [
        "marker_genes = ['IL7R', 'CD79A', 'MS4A1', 'CD8A', 'CD8B', 'LYZ', 'CD14',\n",
        "                'LGALS3', 'S100A8', 'GNLY', 'NKG7', 'KLRB1',\n",
        "                'FCGR3A', 'MS4A7', 'FCER1A', 'CST3', 'PPBP']"
      ],
      "execution_count": 0,
      "outputs": []
    },
    {
      "cell_type": "code",
      "metadata": {
        "id": "VmPJw5LdcPEl",
        "colab_type": "code",
        "colab": {}
      },
      "source": [
        "np.in1d(marker_genes, adata.var_names)"
      ],
      "execution_count": 0,
      "outputs": []
    },
    {
      "cell_type": "code",
      "metadata": {
        "id": "h8Oi21EkcPHW",
        "colab_type": "code",
        "colab": {}
      },
      "source": [
        "sc.pl.umap(adata=adata, color=marker_genes, use_raw=False)"
      ],
      "execution_count": 0,
      "outputs": []
    },
    {
      "cell_type": "markdown",
      "metadata": {
        "id": "Y8sHHjcucyKl",
        "colab_type": "text"
      },
      "source": [
        "# Visualization"
      ]
    },
    {
      "cell_type": "code",
      "metadata": {
        "id": "8qUbyPuHcPw4",
        "colab_type": "code",
        "colab": {}
      },
      "source": [
        "\n",
        "ax = sc.pl.dotplot(adata, marker_genes, groupby='leiden_r1', use_raw=False)"
      ],
      "execution_count": 0,
      "outputs": []
    },
    {
      "cell_type": "code",
      "metadata": {
        "id": "bekzx2_QcXOU",
        "colab_type": "code",
        "colab": {}
      },
      "source": [
        "sc.pl.heatmap(adata=adata, var_names=marker_genes,\n",
        "              groupby='leiden_r1', use_raw=False, vmin=0)"
      ],
      "execution_count": 0,
      "outputs": []
    },
    {
      "cell_type": "code",
      "metadata": {
        "id": "TpPsQ9E_cXTi",
        "colab_type": "code",
        "colab": {}
      },
      "source": [
        "ax = sc.pl.stacked_violin(adata, marker_genes, groupby='leiden_r1', use_raw=False)"
      ],
      "execution_count": 0,
      "outputs": []
    },
    {
      "cell_type": "code",
      "metadata": {
        "id": "XjdK18rsd8sa",
        "colab_type": "code",
        "colab": {}
      },
      "source": [
        "adata.obs['annotated'] = adata.obs['leiden_r0.5'].cat.add_categories(['CD4 T cells', \n",
        "                        'CD14+ Monocytes', 'B cells', 'CD8 T cells', \n",
        "                        'FCGR3A+ Monocytes', 'NK cells', 'Dendritic cells'])\n",
        "\n",
        "adata.obs['annotated'][np.in1d(adata.obs['annotated'], ['1'])] = 'CD4 T cells'\n",
        "adata.obs['annotated'][np.in1d(adata.obs['annotated'], ['0'])] = 'CD14+ Monocytes'\n",
        "adata.obs['annotated'][np.in1d(adata.obs['annotated'], ['4'])] = 'B cells'\n",
        "adata.obs['annotated'][np.in1d(adata.obs['annotated'], ['2','3'])] = 'CD8 T cells'\n",
        "adata.obs['annotated'][np.in1d(adata.obs['annotated'], ['10'])] = 'FCGR3A+ Monocytes'\n",
        "adata.obs['annotated'][np.in1d(adata.obs['annotated'], ['7','9'])] = 'NK cells'\n",
        "adata.obs['annotated'][np.in1d(adata.obs['annotated'], ['11', '12'])] = 'Dendritic cells'\n",
        "\n",
        "adata.obs['annotated'] = adata.obs['annotated'].cat.remove_unused_categories()"
      ],
      "execution_count": 0,
      "outputs": []
    },
    {
      "cell_type": "code",
      "metadata": {
        "id": "AoSjuwJ0enLn",
        "colab_type": "code",
        "colab": {}
      },
      "source": [
        "\n",
        "sc.pl.umap(adata, color='annotated', legend_loc='on data', title='', frameon=False)\n",
        "sc.pl.umap(adata, color='annotated',  title='', frameon=True)\n"
      ],
      "execution_count": 0,
      "outputs": []
    }
  ]
}
